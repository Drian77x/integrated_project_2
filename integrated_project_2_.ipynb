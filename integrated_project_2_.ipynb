{
 "cells": [
  {
   "cell_type": "markdown",
   "metadata": {},
   "source": [
    "# Descripción del Proyecto."
   ]
  },
  {
   "cell_type": "markdown",
   "metadata": {},
   "source": [
    "Trabajas en una empresa emergente que vende productos alimenticios. Debes investigar el comportamiento del usuario para la aplicación de la empresa.\n",
    "\n",
    "Estudiar diferentes métricas: el embudo de ventas, cómo los usuarios y las usuarias llegan a la etapa de compra. ¿Cuántos usuarios o usuarias realmente llegan a esta etapa? ¿Cuántos se atascan en etapas anteriores? ¿Qué etapas en particular?\n",
    "\n",
    "Observar los resultados de un test A/A/B basado en las fuentes de toda la aplicación, la gerencia teme que los usuarios y las usuarias piensen que el nuevo diseño es intimidante. Por ello, deciden tomar una decisión basada en los resultados de un test A/A/B.\n",
    "\n",
    "Los usuarios se dividen en tres grupos: dos grupos de control obtienen las fuentes antiguas y un grupo de prueba obtiene las nuevas. Descubre qué conjunto de fuentes produce mejores resultados.\n"
   ]
  },
  {
   "cell_type": "markdown",
   "metadata": {},
   "source": [
    "## Importación de librerías y datos"
   ]
  },
  {
   "cell_type": "code",
   "execution_count": 1,
   "metadata": {},
   "outputs": [],
   "source": [
    "import pandas as pd\n",
    "import numpy as np\n",
    "import seaborn as sns\n",
    "from matplotlib import pyplot as plt\n",
    "from scipy.stats import ttest_ind"
   ]
  },
  {
   "cell_type": "code",
   "execution_count": 2,
   "metadata": {},
   "outputs": [
    {
     "data": {
      "text/html": [
       "<div>\n",
       "<style scoped>\n",
       "    .dataframe tbody tr th:only-of-type {\n",
       "        vertical-align: middle;\n",
       "    }\n",
       "\n",
       "    .dataframe tbody tr th {\n",
       "        vertical-align: top;\n",
       "    }\n",
       "\n",
       "    .dataframe thead th {\n",
       "        text-align: right;\n",
       "    }\n",
       "</style>\n",
       "<table border=\"1\" class=\"dataframe\">\n",
       "  <thead>\n",
       "    <tr style=\"text-align: right;\">\n",
       "      <th></th>\n",
       "      <th>EventName</th>\n",
       "      <th>DeviceIDHash</th>\n",
       "      <th>EventTimestamp</th>\n",
       "      <th>ExpId</th>\n",
       "    </tr>\n",
       "  </thead>\n",
       "  <tbody>\n",
       "    <tr>\n",
       "      <th>0</th>\n",
       "      <td>MainScreenAppear</td>\n",
       "      <td>4575588528974610257</td>\n",
       "      <td>1564029816</td>\n",
       "      <td>246</td>\n",
       "    </tr>\n",
       "    <tr>\n",
       "      <th>1</th>\n",
       "      <td>MainScreenAppear</td>\n",
       "      <td>7416695313311560658</td>\n",
       "      <td>1564053102</td>\n",
       "      <td>246</td>\n",
       "    </tr>\n",
       "    <tr>\n",
       "      <th>2</th>\n",
       "      <td>PaymentScreenSuccessful</td>\n",
       "      <td>3518123091307005509</td>\n",
       "      <td>1564054127</td>\n",
       "      <td>248</td>\n",
       "    </tr>\n",
       "    <tr>\n",
       "      <th>3</th>\n",
       "      <td>CartScreenAppear</td>\n",
       "      <td>3518123091307005509</td>\n",
       "      <td>1564054127</td>\n",
       "      <td>248</td>\n",
       "    </tr>\n",
       "    <tr>\n",
       "      <th>4</th>\n",
       "      <td>PaymentScreenSuccessful</td>\n",
       "      <td>6217807653094995999</td>\n",
       "      <td>1564055322</td>\n",
       "      <td>248</td>\n",
       "    </tr>\n",
       "    <tr>\n",
       "      <th>...</th>\n",
       "      <td>...</td>\n",
       "      <td>...</td>\n",
       "      <td>...</td>\n",
       "      <td>...</td>\n",
       "    </tr>\n",
       "    <tr>\n",
       "      <th>244121</th>\n",
       "      <td>MainScreenAppear</td>\n",
       "      <td>4599628364049201812</td>\n",
       "      <td>1565212345</td>\n",
       "      <td>247</td>\n",
       "    </tr>\n",
       "    <tr>\n",
       "      <th>244122</th>\n",
       "      <td>MainScreenAppear</td>\n",
       "      <td>5849806612437486590</td>\n",
       "      <td>1565212439</td>\n",
       "      <td>246</td>\n",
       "    </tr>\n",
       "    <tr>\n",
       "      <th>244123</th>\n",
       "      <td>MainScreenAppear</td>\n",
       "      <td>5746969938801999050</td>\n",
       "      <td>1565212483</td>\n",
       "      <td>246</td>\n",
       "    </tr>\n",
       "    <tr>\n",
       "      <th>244124</th>\n",
       "      <td>MainScreenAppear</td>\n",
       "      <td>5746969938801999050</td>\n",
       "      <td>1565212498</td>\n",
       "      <td>246</td>\n",
       "    </tr>\n",
       "    <tr>\n",
       "      <th>244125</th>\n",
       "      <td>OffersScreenAppear</td>\n",
       "      <td>5746969938801999050</td>\n",
       "      <td>1565212517</td>\n",
       "      <td>246</td>\n",
       "    </tr>\n",
       "  </tbody>\n",
       "</table>\n",
       "<p>244126 rows × 4 columns</p>\n",
       "</div>"
      ],
      "text/plain": [
       "                      EventName         DeviceIDHash  EventTimestamp  ExpId\n",
       "0              MainScreenAppear  4575588528974610257      1564029816    246\n",
       "1              MainScreenAppear  7416695313311560658      1564053102    246\n",
       "2       PaymentScreenSuccessful  3518123091307005509      1564054127    248\n",
       "3              CartScreenAppear  3518123091307005509      1564054127    248\n",
       "4       PaymentScreenSuccessful  6217807653094995999      1564055322    248\n",
       "...                         ...                  ...             ...    ...\n",
       "244121         MainScreenAppear  4599628364049201812      1565212345    247\n",
       "244122         MainScreenAppear  5849806612437486590      1565212439    246\n",
       "244123         MainScreenAppear  5746969938801999050      1565212483    246\n",
       "244124         MainScreenAppear  5746969938801999050      1565212498    246\n",
       "244125       OffersScreenAppear  5746969938801999050      1565212517    246\n",
       "\n",
       "[244126 rows x 4 columns]"
      ]
     },
     "execution_count": 2,
     "metadata": {},
     "output_type": "execute_result"
    }
   ],
   "source": [
    "logs = pd.read_csv(\"/datasets/logs_exp_us.csv\", sep='\\t')\n",
    "logs"
   ]
  },
  {
   "cell_type": "code",
   "execution_count": 3,
   "metadata": {},
   "outputs": [
    {
     "name": "stdout",
     "output_type": "stream",
     "text": [
      "<class 'pandas.core.frame.DataFrame'>\n",
      "RangeIndex: 244126 entries, 0 to 244125\n",
      "Data columns (total 4 columns):\n",
      " #   Column          Non-Null Count   Dtype \n",
      "---  ------          --------------   ----- \n",
      " 0   EventName       244126 non-null  object\n",
      " 1   DeviceIDHash    244126 non-null  int64 \n",
      " 2   EventTimestamp  244126 non-null  int64 \n",
      " 3   ExpId           244126 non-null  int64 \n",
      "dtypes: int64(3), object(1)\n",
      "memory usage: 7.5+ MB\n"
     ]
    }
   ],
   "source": [
    "logs.info()"
   ]
  },
  {
   "cell_type": "markdown",
   "metadata": {},
   "source": [
    "### Renombrar columnas"
   ]
  },
  {
   "cell_type": "code",
   "execution_count": 4,
   "metadata": {},
   "outputs": [],
   "source": [
    "logs = logs.rename(columns={'EventName':'event','DeviceIDHash':'user_id','EventTimestamp':'event_ts','ExpId':'group'})"
   ]
  },
  {
   "cell_type": "markdown",
   "metadata": {},
   "source": [
    "### Revisar y eliminar duplicados"
   ]
  },
  {
   "cell_type": "code",
   "execution_count": 5,
   "metadata": {},
   "outputs": [
    {
     "data": {
      "text/html": [
       "<div>\n",
       "<style scoped>\n",
       "    .dataframe tbody tr th:only-of-type {\n",
       "        vertical-align: middle;\n",
       "    }\n",
       "\n",
       "    .dataframe tbody tr th {\n",
       "        vertical-align: top;\n",
       "    }\n",
       "\n",
       "    .dataframe thead th {\n",
       "        text-align: right;\n",
       "    }\n",
       "</style>\n",
       "<table border=\"1\" class=\"dataframe\">\n",
       "  <thead>\n",
       "    <tr style=\"text-align: right;\">\n",
       "      <th></th>\n",
       "      <th>event</th>\n",
       "      <th>user_id</th>\n",
       "      <th>event_ts</th>\n",
       "      <th>group</th>\n",
       "    </tr>\n",
       "  </thead>\n",
       "  <tbody>\n",
       "    <tr>\n",
       "      <th>453</th>\n",
       "      <td>MainScreenAppear</td>\n",
       "      <td>5613408041324010552</td>\n",
       "      <td>1564474784</td>\n",
       "      <td>248</td>\n",
       "    </tr>\n",
       "    <tr>\n",
       "      <th>2350</th>\n",
       "      <td>CartScreenAppear</td>\n",
       "      <td>1694940645335807244</td>\n",
       "      <td>1564609899</td>\n",
       "      <td>248</td>\n",
       "    </tr>\n",
       "    <tr>\n",
       "      <th>3573</th>\n",
       "      <td>MainScreenAppear</td>\n",
       "      <td>434103746454591587</td>\n",
       "      <td>1564628377</td>\n",
       "      <td>248</td>\n",
       "    </tr>\n",
       "    <tr>\n",
       "      <th>4076</th>\n",
       "      <td>MainScreenAppear</td>\n",
       "      <td>3761373764179762633</td>\n",
       "      <td>1564631266</td>\n",
       "      <td>247</td>\n",
       "    </tr>\n",
       "    <tr>\n",
       "      <th>4803</th>\n",
       "      <td>MainScreenAppear</td>\n",
       "      <td>2835328739789306622</td>\n",
       "      <td>1564634641</td>\n",
       "      <td>248</td>\n",
       "    </tr>\n",
       "    <tr>\n",
       "      <th>...</th>\n",
       "      <td>...</td>\n",
       "      <td>...</td>\n",
       "      <td>...</td>\n",
       "      <td>...</td>\n",
       "    </tr>\n",
       "    <tr>\n",
       "      <th>242329</th>\n",
       "      <td>MainScreenAppear</td>\n",
       "      <td>8870358373313968633</td>\n",
       "      <td>1565206004</td>\n",
       "      <td>247</td>\n",
       "    </tr>\n",
       "    <tr>\n",
       "      <th>242332</th>\n",
       "      <td>PaymentScreenSuccessful</td>\n",
       "      <td>4718002964983105693</td>\n",
       "      <td>1565206005</td>\n",
       "      <td>247</td>\n",
       "    </tr>\n",
       "    <tr>\n",
       "      <th>242360</th>\n",
       "      <td>PaymentScreenSuccessful</td>\n",
       "      <td>2382591782303281935</td>\n",
       "      <td>1565206049</td>\n",
       "      <td>246</td>\n",
       "    </tr>\n",
       "    <tr>\n",
       "      <th>242362</th>\n",
       "      <td>CartScreenAppear</td>\n",
       "      <td>2382591782303281935</td>\n",
       "      <td>1565206049</td>\n",
       "      <td>246</td>\n",
       "    </tr>\n",
       "    <tr>\n",
       "      <th>242635</th>\n",
       "      <td>MainScreenAppear</td>\n",
       "      <td>4097782667445790512</td>\n",
       "      <td>1565206618</td>\n",
       "      <td>246</td>\n",
       "    </tr>\n",
       "  </tbody>\n",
       "</table>\n",
       "<p>413 rows × 4 columns</p>\n",
       "</div>"
      ],
      "text/plain": [
       "                          event              user_id    event_ts  group\n",
       "453            MainScreenAppear  5613408041324010552  1564474784    248\n",
       "2350           CartScreenAppear  1694940645335807244  1564609899    248\n",
       "3573           MainScreenAppear   434103746454591587  1564628377    248\n",
       "4076           MainScreenAppear  3761373764179762633  1564631266    247\n",
       "4803           MainScreenAppear  2835328739789306622  1564634641    248\n",
       "...                         ...                  ...         ...    ...\n",
       "242329         MainScreenAppear  8870358373313968633  1565206004    247\n",
       "242332  PaymentScreenSuccessful  4718002964983105693  1565206005    247\n",
       "242360  PaymentScreenSuccessful  2382591782303281935  1565206049    246\n",
       "242362         CartScreenAppear  2382591782303281935  1565206049    246\n",
       "242635         MainScreenAppear  4097782667445790512  1565206618    246\n",
       "\n",
       "[413 rows x 4 columns]"
      ]
     },
     "execution_count": 5,
     "metadata": {},
     "output_type": "execute_result"
    }
   ],
   "source": [
    "logs[logs.duplicated()]"
   ]
  },
  {
   "cell_type": "code",
   "execution_count": 6,
   "metadata": {},
   "outputs": [],
   "source": [
    "logs = logs.drop_duplicates()"
   ]
  },
  {
   "cell_type": "markdown",
   "metadata": {},
   "source": [
    "### Convertir columnas a tipos de datos correctos"
   ]
  },
  {
   "cell_type": "code",
   "execution_count": 7,
   "metadata": {},
   "outputs": [],
   "source": [
    "logs['event_ts'] = pd.to_datetime(logs['event_ts'], unit='s')"
   ]
  },
  {
   "cell_type": "markdown",
   "metadata": {},
   "source": [
    "### Crear nueva columna con fechas"
   ]
  },
  {
   "cell_type": "code",
   "execution_count": 8,
   "metadata": {},
   "outputs": [],
   "source": [
    "logs['date'] = logs['event_ts'].values.astype(dtype='datetime64[D]')"
   ]
  },
  {
   "cell_type": "markdown",
   "metadata": {},
   "source": [
    "## Estudiar y comprobar los datos"
   ]
  },
  {
   "cell_type": "markdown",
   "metadata": {},
   "source": [
    "### ¿Cuántos eventos hay en los registros?"
   ]
  },
  {
   "cell_type": "code",
   "execution_count": 9,
   "metadata": {},
   "outputs": [
    {
     "name": "stdout",
     "output_type": "stream",
     "text": [
      "Se tienen los datos de 243713 eventos.\n"
     ]
    }
   ],
   "source": [
    "print(f'Se tienen los datos de {len(logs)} eventos.')"
   ]
  },
  {
   "cell_type": "markdown",
   "metadata": {},
   "source": [
    "### ¿Cuántos usuarios y usuarias hay en los registros?"
   ]
  },
  {
   "cell_type": "code",
   "execution_count": 10,
   "metadata": {},
   "outputs": [
    {
     "name": "stdout",
     "output_type": "stream",
     "text": [
      "Hay 7551 usuarios/as.\n"
     ]
    }
   ],
   "source": [
    "print(f'Hay {logs[\"user_id\"].nunique()} usuarios/as.')"
   ]
  },
  {
   "cell_type": "markdown",
   "metadata": {},
   "source": [
    "### ¿Cuál es el promedio de eventos por usuario?"
   ]
  },
  {
   "cell_type": "code",
   "execution_count": 11,
   "metadata": {},
   "outputs": [
    {
     "name": "stdout",
     "output_type": "stream",
     "text": [
      "Un usuario promedio tiene 32 eventos durante el experimento.\n"
     ]
    }
   ],
   "source": [
    "print(f'Un usuario promedio tiene {round(len(logs) / logs[\"user_id\"].nunique())} eventos durante el experimento.')"
   ]
  },
  {
   "cell_type": "markdown",
   "metadata": {},
   "source": [
    "### ¿Qué periodo de tiempo cubren los datos?"
   ]
  },
  {
   "cell_type": "markdown",
   "metadata": {},
   "source": [
    "#### Encuentra la fecha máxima y mínima. "
   ]
  },
  {
   "cell_type": "code",
   "execution_count": 12,
   "metadata": {},
   "outputs": [
    {
     "name": "stdout",
     "output_type": "stream",
     "text": [
      "Fecha más antigua del experimento: 2019-07-25 00:00:00\n",
      "Fecha más reciente del experimento: 2019-08-07 00:00:00\n"
     ]
    }
   ],
   "source": [
    "print(f'Fecha más antigua del experimento: {logs[\"date\"].min()}')\n",
    "print(f'Fecha más reciente del experimento: {logs[\"date\"].max()}')"
   ]
  },
  {
   "cell_type": "markdown",
   "metadata": {},
   "source": [
    "#### Traza un histograma por fecha y hora."
   ]
  },
  {
   "cell_type": "code",
   "execution_count": 13,
   "metadata": {},
   "outputs": [
    {
     "data": {
      "image/png": "[encoded data removed]",
      "text/plain": [
       "<Figure size 640x480 with 1 Axes>"
      ]
     },
     "metadata": {},
     "output_type": "display_data"
    }
   ],
   "source": [
    "plt.style.use('seaborn-deep')\n",
    "\n",
    "plt.figure()\n",
    "sns.histplot(data = logs, x = 'event_ts')\n",
    "plt.xticks(rotation=90)\n",
    "plt.show()"
   ]
  },
  {
   "cell_type": "markdown",
   "metadata": {},
   "source": [
    "#### ¿Puedes tener seguridad de que tienes datos igualmente completos para todo el periodo?\n",
    "Los eventos más antiguos podrían terminar en los registros de algunos usuarios o usuarias por razones técnicas y esto podría sesgar el panorama general. Encuentra el momento en el que los datos comienzan a estar completos e ignora la sección anterior. ¿Qué periodo representan realmente los datos?"
   ]
  },
  {
   "cell_type": "markdown",
   "metadata": {},
   "source": [
    "Basado en el gráfico anterior tomaré los datos de 2019-08-01 en adelante ya que es donde ocurren la mayoría de eventos en los datos que tenemos, pueden faltar registros anteriores por lo que usar datos incompletos sería perjudicial para el análisis."
   ]
  },
  {
   "cell_type": "code",
   "execution_count": 14,
   "metadata": {
    "scrolled": true
   },
   "outputs": [
    {
     "data": {
      "text/plain": [
       "(240887, 5)"
      ]
     },
     "execution_count": 14,
     "metadata": {},
     "output_type": "execute_result"
    }
   ],
   "source": [
    "filter_logs = logs[logs['date'] >= '2019-08-01']\n",
    "filter_logs.shape"
   ]
  },
  {
   "cell_type": "markdown",
   "metadata": {},
   "source": [
    "### ¿Perdiste muchos eventos y usuarios al excluir los datos más antiguos?"
   ]
  },
  {
   "cell_type": "code",
   "execution_count": 15,
   "metadata": {},
   "outputs": [
    {
     "name": "stdout",
     "output_type": "stream",
     "text": [
      "(243713, 5)\n",
      "(240887, 5)\n"
     ]
    }
   ],
   "source": [
    "print(logs.shape)\n",
    "print(filter_logs.shape)"
   ]
  },
  {
   "cell_type": "markdown",
   "metadata": {},
   "source": [
    "Es una parte muy pequeña del dataset original la que eliminé por lo que no debería afectar negativamente al análisis."
   ]
  },
  {
   "cell_type": "markdown",
   "metadata": {},
   "source": [
    "### Asegúrate de tener usuarios y usuarias de los tres grupos experimentales."
   ]
  },
  {
   "cell_type": "code",
   "execution_count": 16,
   "metadata": {},
   "outputs": [
    {
     "data": {
      "text/html": [
       "<div>\n",
       "<style scoped>\n",
       "    .dataframe tbody tr th:only-of-type {\n",
       "        vertical-align: middle;\n",
       "    }\n",
       "\n",
       "    .dataframe tbody tr th {\n",
       "        vertical-align: top;\n",
       "    }\n",
       "\n",
       "    .dataframe thead th {\n",
       "        text-align: right;\n",
       "    }\n",
       "</style>\n",
       "<table border=\"1\" class=\"dataframe\">\n",
       "  <thead>\n",
       "    <tr style=\"text-align: right;\">\n",
       "      <th></th>\n",
       "      <th>group</th>\n",
       "      <th>user_id</th>\n",
       "    </tr>\n",
       "  </thead>\n",
       "  <tbody>\n",
       "    <tr>\n",
       "      <th>0</th>\n",
       "      <td>246</td>\n",
       "      <td>2484</td>\n",
       "    </tr>\n",
       "    <tr>\n",
       "      <th>1</th>\n",
       "      <td>247</td>\n",
       "      <td>2513</td>\n",
       "    </tr>\n",
       "    <tr>\n",
       "      <th>2</th>\n",
       "      <td>248</td>\n",
       "      <td>2537</td>\n",
       "    </tr>\n",
       "  </tbody>\n",
       "</table>\n",
       "</div>"
      ],
      "text/plain": [
       "   group  user_id\n",
       "0    246     2484\n",
       "1    247     2513\n",
       "2    248     2537"
      ]
     },
     "execution_count": 16,
     "metadata": {},
     "output_type": "execute_result"
    }
   ],
   "source": [
    "exp_groups = filter_logs.groupby('group')['user_id'].nunique().reset_index()\n",
    "exp_groups"
   ]
  },
  {
   "cell_type": "markdown",
   "metadata": {},
   "source": [
    "Los tres grupos poseen cantidades muy parecidas de eventos por lo que confío los resultados que se obtendrán son confiables."
   ]
  },
  {
   "cell_type": "markdown",
   "metadata": {},
   "source": [
    "## Estudiar el embudo de eventos\n"
   ]
  },
  {
   "cell_type": "markdown",
   "metadata": {},
   "source": [
    "### Observa qué eventos hay en los registros y su frecuencia de suceso. Ordénalos por frecuencia.\n"
   ]
  },
  {
   "cell_type": "code",
   "execution_count": 17,
   "metadata": {},
   "outputs": [
    {
     "data": {
      "text/html": [
       "<div>\n",
       "<style scoped>\n",
       "    .dataframe tbody tr th:only-of-type {\n",
       "        vertical-align: middle;\n",
       "    }\n",
       "\n",
       "    .dataframe tbody tr th {\n",
       "        vertical-align: top;\n",
       "    }\n",
       "\n",
       "    .dataframe thead th {\n",
       "        text-align: right;\n",
       "    }\n",
       "</style>\n",
       "<table border=\"1\" class=\"dataframe\">\n",
       "  <thead>\n",
       "    <tr style=\"text-align: right;\">\n",
       "      <th></th>\n",
       "      <th>event</th>\n",
       "      <th>count</th>\n",
       "    </tr>\n",
       "  </thead>\n",
       "  <tbody>\n",
       "    <tr>\n",
       "      <th>0</th>\n",
       "      <td>MainScreenAppear</td>\n",
       "      <td>117328</td>\n",
       "    </tr>\n",
       "    <tr>\n",
       "      <th>1</th>\n",
       "      <td>OffersScreenAppear</td>\n",
       "      <td>46333</td>\n",
       "    </tr>\n",
       "    <tr>\n",
       "      <th>2</th>\n",
       "      <td>CartScreenAppear</td>\n",
       "      <td>42303</td>\n",
       "    </tr>\n",
       "    <tr>\n",
       "      <th>3</th>\n",
       "      <td>PaymentScreenSuccessful</td>\n",
       "      <td>33918</td>\n",
       "    </tr>\n",
       "    <tr>\n",
       "      <th>4</th>\n",
       "      <td>Tutorial</td>\n",
       "      <td>1005</td>\n",
       "    </tr>\n",
       "  </tbody>\n",
       "</table>\n",
       "</div>"
      ],
      "text/plain": [
       "                     event   count\n",
       "0         MainScreenAppear  117328\n",
       "1       OffersScreenAppear   46333\n",
       "2         CartScreenAppear   42303\n",
       "3  PaymentScreenSuccessful   33918\n",
       "4                 Tutorial    1005"
      ]
     },
     "execution_count": 17,
     "metadata": {},
     "output_type": "execute_result"
    }
   ],
   "source": [
    "funnel = filter_logs.groupby('event')['user_id'].count().sort_values(ascending = False).reset_index()\n",
    "funnel = funnel.rename(columns={'user_id':'count'})\n",
    "funnel\n"
   ]
  },
  {
   "cell_type": "code",
   "execution_count": 18,
   "metadata": {},
   "outputs": [
    {
     "data": {
      "image/png": "[encoded data removed]",
      "text/plain": [
       "<Figure size 640x480 with 1 Axes>"
      ]
     },
     "metadata": {},
     "output_type": "display_data"
    }
   ],
   "source": [
    "plt.figure()\n",
    "sns.barplot(data = funnel, x= 'event', y= 'count')\n",
    "plt.xticks(rotation = 45)\n",
    "plt.show()"
   ]
  },
  {
   "cell_type": "markdown",
   "metadata": {},
   "source": [
    "### Encuentra la cantidad de usuarios y usuarias que realizaron cada una de estas acciones. Ordena los eventos por el número de usuarios y usuarias. "
   ]
  },
  {
   "cell_type": "code",
   "execution_count": 19,
   "metadata": {},
   "outputs": [],
   "source": [
    "users = filter_logs.groupby('event')['user_id'].nunique().sort_values(ascending = False).reset_index()\n",
    "users = users.rename(columns = {'user_id':'n_of_users'})"
   ]
  },
  {
   "cell_type": "code",
   "execution_count": 20,
   "metadata": {},
   "outputs": [
    {
     "data": {
      "text/html": [
       "<div>\n",
       "<style scoped>\n",
       "    .dataframe tbody tr th:only-of-type {\n",
       "        vertical-align: middle;\n",
       "    }\n",
       "\n",
       "    .dataframe tbody tr th {\n",
       "        vertical-align: top;\n",
       "    }\n",
       "\n",
       "    .dataframe thead th {\n",
       "        text-align: right;\n",
       "    }\n",
       "</style>\n",
       "<table border=\"1\" class=\"dataframe\">\n",
       "  <thead>\n",
       "    <tr style=\"text-align: right;\">\n",
       "      <th></th>\n",
       "      <th>event</th>\n",
       "      <th>n_of_users</th>\n",
       "    </tr>\n",
       "  </thead>\n",
       "  <tbody>\n",
       "    <tr>\n",
       "      <th>0</th>\n",
       "      <td>MainScreenAppear</td>\n",
       "      <td>7419</td>\n",
       "    </tr>\n",
       "    <tr>\n",
       "      <th>1</th>\n",
       "      <td>OffersScreenAppear</td>\n",
       "      <td>4593</td>\n",
       "    </tr>\n",
       "    <tr>\n",
       "      <th>2</th>\n",
       "      <td>CartScreenAppear</td>\n",
       "      <td>3734</td>\n",
       "    </tr>\n",
       "    <tr>\n",
       "      <th>3</th>\n",
       "      <td>PaymentScreenSuccessful</td>\n",
       "      <td>3539</td>\n",
       "    </tr>\n",
       "    <tr>\n",
       "      <th>4</th>\n",
       "      <td>Tutorial</td>\n",
       "      <td>840</td>\n",
       "    </tr>\n",
       "  </tbody>\n",
       "</table>\n",
       "</div>"
      ],
      "text/plain": [
       "                     event  n_of_users\n",
       "0         MainScreenAppear        7419\n",
       "1       OffersScreenAppear        4593\n",
       "2         CartScreenAppear        3734\n",
       "3  PaymentScreenSuccessful        3539\n",
       "4                 Tutorial         840"
      ]
     },
     "execution_count": 20,
     "metadata": {},
     "output_type": "execute_result"
    }
   ],
   "source": [
    "users"
   ]
  },
  {
   "cell_type": "markdown",
   "metadata": {},
   "source": [
    "#### Calcula la proporción de usuarios y usuarias que realizaron la acción al menos una vez."
   ]
  },
  {
   "cell_type": "code",
   "execution_count": 21,
   "metadata": {},
   "outputs": [
    {
     "data": {
      "text/plain": [
       "7534"
      ]
     },
     "execution_count": 21,
     "metadata": {},
     "output_type": "execute_result"
    }
   ],
   "source": [
    "total_users = filter_logs['user_id'].nunique()\n",
    "total_users"
   ]
  },
  {
   "cell_type": "code",
   "execution_count": 22,
   "metadata": {},
   "outputs": [
    {
     "data": {
      "text/html": [
       "<div>\n",
       "<style scoped>\n",
       "    .dataframe tbody tr th:only-of-type {\n",
       "        vertical-align: middle;\n",
       "    }\n",
       "\n",
       "    .dataframe tbody tr th {\n",
       "        vertical-align: top;\n",
       "    }\n",
       "\n",
       "    .dataframe thead th {\n",
       "        text-align: right;\n",
       "    }\n",
       "</style>\n",
       "<table border=\"1\" class=\"dataframe\">\n",
       "  <thead>\n",
       "    <tr style=\"text-align: right;\">\n",
       "      <th></th>\n",
       "      <th>event</th>\n",
       "      <th>n_of_users</th>\n",
       "      <th>percentage_of_users</th>\n",
       "    </tr>\n",
       "  </thead>\n",
       "  <tbody>\n",
       "    <tr>\n",
       "      <th>0</th>\n",
       "      <td>MainScreenAppear</td>\n",
       "      <td>7419</td>\n",
       "      <td>0.984736</td>\n",
       "    </tr>\n",
       "    <tr>\n",
       "      <th>1</th>\n",
       "      <td>OffersScreenAppear</td>\n",
       "      <td>4593</td>\n",
       "      <td>0.609636</td>\n",
       "    </tr>\n",
       "    <tr>\n",
       "      <th>2</th>\n",
       "      <td>CartScreenAppear</td>\n",
       "      <td>3734</td>\n",
       "      <td>0.495620</td>\n",
       "    </tr>\n",
       "    <tr>\n",
       "      <th>3</th>\n",
       "      <td>PaymentScreenSuccessful</td>\n",
       "      <td>3539</td>\n",
       "      <td>0.469737</td>\n",
       "    </tr>\n",
       "    <tr>\n",
       "      <th>4</th>\n",
       "      <td>Tutorial</td>\n",
       "      <td>840</td>\n",
       "      <td>0.111495</td>\n",
       "    </tr>\n",
       "  </tbody>\n",
       "</table>\n",
       "</div>"
      ],
      "text/plain": [
       "                     event  n_of_users  percentage_of_users\n",
       "0         MainScreenAppear        7419             0.984736\n",
       "1       OffersScreenAppear        4593             0.609636\n",
       "2         CartScreenAppear        3734             0.495620\n",
       "3  PaymentScreenSuccessful        3539             0.469737\n",
       "4                 Tutorial         840             0.111495"
      ]
     },
     "execution_count": 22,
     "metadata": {},
     "output_type": "execute_result"
    }
   ],
   "source": [
    "users['percentage_of_users'] = (users['n_of_users'] / total_users)\n",
    "users "
   ]
  },
  {
   "cell_type": "markdown",
   "metadata": {},
   "source": [
    "### ¿En qué orden crees que ocurrieron las acciones? ¿Todas son parte de una sola secuencia? No es necesario tenerlas en cuenta al calcular el embudo."
   ]
  },
  {
   "cell_type": "markdown",
   "metadata": {},
   "source": [
    "Basado en los nombres de los eventos: \n",
    "\n",
    "1. 'MainScreenAppear' ocurre para todos los que entran a la página principal de la tienda.\n",
    "\n",
    "2. 'OffersScreenAppear' es la página de ofertas del momento, los usuarios la ven mientras realizan las compras.\n",
    "\n",
    "3. 'CartScreenAppear' cuando los usuarios ven su carrito de compras previo al pago.\n",
    "\n",
    "4. 'PaymentScreenSuccesful' La compra ha sido exitosa, paso final de cada transacción.\n",
    "\n",
    "5. 'Tutorial' Es un tutorial opcional de como comprar.\n",
    "\n",
    "Paso 1 es el más común, los usuarios entran a la página principal al querer hacer una compra.\n",
    "\n",
    "Paso 2 puede ocurrir luego del paso 1 o podría ser un link directo en a traves de ads.\n",
    "\n",
    "Pasos 3 y 4 siempre ocurren en secuencia y luego de los pasos anteriores.\n",
    "\n",
    "Paso 5 es opcional y de ahí que pocos usuarios lo hagan."
   ]
  },
  {
   "cell_type": "markdown",
   "metadata": {},
   "source": [
    "### Utiliza el embudo de eventos para encontrar la proporción de usuarios y usuarias que pasan de una etapa a la siguiente. (Por ejemplo, para la secuencia de eventos A → B → C, calcula la proporción de usuarios en la etapa B a la cantidad de usuarios en la etapa A y la proporción de usuarios en la etapa C a la cantidad en la etapa B)."
   ]
  },
  {
   "cell_type": "code",
   "execution_count": 23,
   "metadata": {},
   "outputs": [
    {
     "data": {
      "text/html": [
       "<div>\n",
       "<style scoped>\n",
       "    .dataframe tbody tr th:only-of-type {\n",
       "        vertical-align: middle;\n",
       "    }\n",
       "\n",
       "    .dataframe tbody tr th {\n",
       "        vertical-align: top;\n",
       "    }\n",
       "\n",
       "    .dataframe thead th {\n",
       "        text-align: right;\n",
       "    }\n",
       "</style>\n",
       "<table border=\"1\" class=\"dataframe\">\n",
       "  <thead>\n",
       "    <tr style=\"text-align: right;\">\n",
       "      <th></th>\n",
       "      <th>event</th>\n",
       "      <th>n_of_users</th>\n",
       "      <th>percentage_of_users</th>\n",
       "      <th>proportion</th>\n",
       "    </tr>\n",
       "  </thead>\n",
       "  <tbody>\n",
       "    <tr>\n",
       "      <th>0</th>\n",
       "      <td>MainScreenAppear</td>\n",
       "      <td>7419</td>\n",
       "      <td>0.984736</td>\n",
       "      <td>NaN</td>\n",
       "    </tr>\n",
       "    <tr>\n",
       "      <th>1</th>\n",
       "      <td>OffersScreenAppear</td>\n",
       "      <td>4593</td>\n",
       "      <td>0.609636</td>\n",
       "      <td>61.91</td>\n",
       "    </tr>\n",
       "    <tr>\n",
       "      <th>2</th>\n",
       "      <td>CartScreenAppear</td>\n",
       "      <td>3734</td>\n",
       "      <td>0.495620</td>\n",
       "      <td>81.30</td>\n",
       "    </tr>\n",
       "    <tr>\n",
       "      <th>3</th>\n",
       "      <td>PaymentScreenSuccessful</td>\n",
       "      <td>3539</td>\n",
       "      <td>0.469737</td>\n",
       "      <td>94.78</td>\n",
       "    </tr>\n",
       "    <tr>\n",
       "      <th>4</th>\n",
       "      <td>Tutorial</td>\n",
       "      <td>840</td>\n",
       "      <td>0.111495</td>\n",
       "      <td>23.74</td>\n",
       "    </tr>\n",
       "  </tbody>\n",
       "</table>\n",
       "</div>"
      ],
      "text/plain": [
       "                     event  n_of_users  percentage_of_users  proportion\n",
       "0         MainScreenAppear        7419             0.984736         NaN\n",
       "1       OffersScreenAppear        4593             0.609636       61.91\n",
       "2         CartScreenAppear        3734             0.495620       81.30\n",
       "3  PaymentScreenSuccessful        3539             0.469737       94.78\n",
       "4                 Tutorial         840             0.111495       23.74"
      ]
     },
     "execution_count": 23,
     "metadata": {},
     "output_type": "execute_result"
    }
   ],
   "source": [
    "\n",
    "users['proportion'] = (users['percentage_of_users']*100 / users['percentage_of_users'].shift(1)).round(2)\n",
    "users"
   ]
  },
  {
   "cell_type": "code",
   "execution_count": 24,
   "metadata": {},
   "outputs": [
    {
     "data": {
      "image/png": "[encoded data removed]",
      "text/plain": [
       "<Figure size 640x480 with 1 Axes>"
      ]
     },
     "metadata": {},
     "output_type": "display_data"
    }
   ],
   "source": [
    "sns.barplot(data = users, x = 'event', y = 'proportion')\n",
    "plt.xticks(rotation = 40)\n",
    "plt.show()"
   ]
  },
  {
   "cell_type": "markdown",
   "metadata": {},
   "source": [
    "### ¿En qué etapa pierdes más usuarios y usuarias?\n"
   ]
  },
  {
   "cell_type": "markdown",
   "metadata": {},
   "source": [
    "De la primera a segunda etapa es cuando se pierden más usuarios con 61.91% de los usuarios originales en la secuencia de eventos. Sin embargo solo 11.15% de los usuarios realiza el tutorial por lo que para este evento en particular hay una pérdida de 88.85% en relación al número de usuarios."
   ]
  },
  {
   "cell_type": "markdown",
   "metadata": {},
   "source": [
    "### ¿Qué porcentaje de usuarios y usuarias hace todo el viaje desde su primer evento hasta el pago?"
   ]
  },
  {
   "cell_type": "code",
   "execution_count": 25,
   "metadata": {
    "scrolled": true
   },
   "outputs": [
    {
     "name": "stdout",
     "output_type": "stream",
     "text": [
      "El 47.7% de usuarios que visitan la página realiza todo el proceso de compra. \n",
      "Considerando que casi la mitad de los visitantes realiza una compra es una tasa de retención bastante alta\n"
     ]
    }
   ],
   "source": [
    "final_buyers = ((users['n_of_users'].iloc[3] / users['n_of_users'].iloc[0]) * 100).round(2)\n",
    "print(f'El {final_buyers}% de usuarios que visitan la página realiza todo el proceso de compra. \\nConsiderando que casi la mitad de los visitantes realiza una compra es una tasa de retención bastante alta')"
   ]
  },
  {
   "cell_type": "markdown",
   "metadata": {},
   "source": [
    "## Estudiar los resultados del experimento"
   ]
  },
  {
   "cell_type": "markdown",
   "metadata": {},
   "source": [
    "### ¿Cuántos usuarios y usuarias hay en cada grupo?\n"
   ]
  },
  {
   "cell_type": "code",
   "execution_count": 26,
   "metadata": {
    "scrolled": true
   },
   "outputs": [
    {
     "data": {
      "text/html": [
       "<div>\n",
       "<style scoped>\n",
       "    .dataframe tbody tr th:only-of-type {\n",
       "        vertical-align: middle;\n",
       "    }\n",
       "\n",
       "    .dataframe tbody tr th {\n",
       "        vertical-align: top;\n",
       "    }\n",
       "\n",
       "    .dataframe thead th {\n",
       "        text-align: right;\n",
       "    }\n",
       "</style>\n",
       "<table border=\"1\" class=\"dataframe\">\n",
       "  <thead>\n",
       "    <tr style=\"text-align: right;\">\n",
       "      <th></th>\n",
       "      <th>group</th>\n",
       "      <th>number_of_users</th>\n",
       "    </tr>\n",
       "  </thead>\n",
       "  <tbody>\n",
       "    <tr>\n",
       "      <th>0</th>\n",
       "      <td>246</td>\n",
       "      <td>2484</td>\n",
       "    </tr>\n",
       "    <tr>\n",
       "      <th>1</th>\n",
       "      <td>247</td>\n",
       "      <td>2513</td>\n",
       "    </tr>\n",
       "    <tr>\n",
       "      <th>2</th>\n",
       "      <td>248</td>\n",
       "      <td>2537</td>\n",
       "    </tr>\n",
       "  </tbody>\n",
       "</table>\n",
       "</div>"
      ],
      "text/plain": [
       "   group  number_of_users\n",
       "0    246             2484\n",
       "1    247             2513\n",
       "2    248             2537"
      ]
     },
     "execution_count": 26,
     "metadata": {},
     "output_type": "execute_result"
    }
   ],
   "source": [
    "exp_groups = exp_groups.rename(columns = {'group':'group','user_id':'number_of_users'})\n",
    "exp_groups"
   ]
  },
  {
   "cell_type": "markdown",
   "metadata": {},
   "source": [
    "Los tres grupos cuentan con aproximadamente el mismo número de usuarios."
   ]
  },
  {
   "cell_type": "markdown",
   "metadata": {},
   "source": [
    "### Tenemos dos grupos de control en el test A/A, donde comprobamos nuestros mecanismos y cálculos. Observa si hay una diferencia estadísticamente significativa entre las muestras 246 y 247."
   ]
  },
  {
   "cell_type": "code",
   "execution_count": 27,
   "metadata": {},
   "outputs": [],
   "source": [
    "pivot_logs = filter_logs.pivot_table(index = 'event',\n",
    "                                     columns = 'group',\n",
    "                                     values = 'user_id',\n",
    "                                     aggfunc = 'nunique').reset_index()\n",
    "pivot_logs = pivot_logs.sort_values(by = 246, ascending=False)"
   ]
  },
  {
   "cell_type": "code",
   "execution_count": 28,
   "metadata": {},
   "outputs": [
    {
     "data": {
      "text/html": [
       "<div>\n",
       "<style scoped>\n",
       "    .dataframe tbody tr th:only-of-type {\n",
       "        vertical-align: middle;\n",
       "    }\n",
       "\n",
       "    .dataframe tbody tr th {\n",
       "        vertical-align: top;\n",
       "    }\n",
       "\n",
       "    .dataframe thead th {\n",
       "        text-align: right;\n",
       "    }\n",
       "</style>\n",
       "<table border=\"1\" class=\"dataframe\">\n",
       "  <thead>\n",
       "    <tr style=\"text-align: right;\">\n",
       "      <th>group</th>\n",
       "      <th>event</th>\n",
       "      <th>246</th>\n",
       "      <th>247</th>\n",
       "      <th>248</th>\n",
       "    </tr>\n",
       "  </thead>\n",
       "  <tbody>\n",
       "    <tr>\n",
       "      <th>1</th>\n",
       "      <td>MainScreenAppear</td>\n",
       "      <td>2450</td>\n",
       "      <td>2476</td>\n",
       "      <td>2493</td>\n",
       "    </tr>\n",
       "    <tr>\n",
       "      <th>2</th>\n",
       "      <td>OffersScreenAppear</td>\n",
       "      <td>1542</td>\n",
       "      <td>1520</td>\n",
       "      <td>1531</td>\n",
       "    </tr>\n",
       "    <tr>\n",
       "      <th>0</th>\n",
       "      <td>CartScreenAppear</td>\n",
       "      <td>1266</td>\n",
       "      <td>1238</td>\n",
       "      <td>1230</td>\n",
       "    </tr>\n",
       "    <tr>\n",
       "      <th>3</th>\n",
       "      <td>PaymentScreenSuccessful</td>\n",
       "      <td>1200</td>\n",
       "      <td>1158</td>\n",
       "      <td>1181</td>\n",
       "    </tr>\n",
       "    <tr>\n",
       "      <th>4</th>\n",
       "      <td>Tutorial</td>\n",
       "      <td>278</td>\n",
       "      <td>283</td>\n",
       "      <td>279</td>\n",
       "    </tr>\n",
       "  </tbody>\n",
       "</table>\n",
       "</div>"
      ],
      "text/plain": [
       "group                    event   246   247   248\n",
       "1             MainScreenAppear  2450  2476  2493\n",
       "2           OffersScreenAppear  1542  1520  1531\n",
       "0             CartScreenAppear  1266  1238  1230\n",
       "3      PaymentScreenSuccessful  1200  1158  1181\n",
       "4                     Tutorial   278   283   279"
      ]
     },
     "execution_count": 28,
     "metadata": {},
     "output_type": "execute_result"
    }
   ],
   "source": [
    "pivot_logs"
   ]
  },
  {
   "cell_type": "code",
   "execution_count": 29,
   "metadata": {},
   "outputs": [],
   "source": [
    "#Defino un alpha original de 5%\n",
    "alpha = 0.05\n",
    "\n",
    "#Luego de los experimentos redefino el valor para reducir el riesgo de errores (5 experimentos, 5% / 5 = 1%)\n",
    "alpha = 0.01"
   ]
  },
  {
   "cell_type": "code",
   "execution_count": 30,
   "metadata": {},
   "outputs": [
    {
     "name": "stdout",
     "output_type": "stream",
     "text": [
      "T-statistic: 0.02462483464245995\n",
      "P-value: 0.9809573661651472\n",
      "No puede rechazarse la hipótesis nula.\n"
     ]
    }
   ],
   "source": [
    "t_stat, p_value = ttest_ind(pivot_logs[246], pivot_logs[247])\n",
    "print(f'T-statistic: {t_stat}')\n",
    "print(f'P-value: {p_value}')\n",
    "\n",
    "if (p_value < alpha):\n",
    "        print('Rechazamos la hipótesis nula, los grupos son diferentes')\n",
    "else:\n",
    "        print('No puede rechazarse la hipótesis nula.')\n",
    "        "
   ]
  },
  {
   "cell_type": "markdown",
   "metadata": {},
   "source": [
    "Estos valores sugieren que las dos muestras son prácticamente indistinguibles en términos estadísticos. Funcionan como grupos de control de nuestra prueba."
   ]
  },
  {
   "cell_type": "markdown",
   "metadata": {},
   "source": [
    "### Selecciona el evento más popular. En cada uno de los grupos de control, encuentra la cantidad de usuarios y usuarias que realizaron esta acción. Encuentra su proporción. Comprueba si la diferencia entre los grupos es estadísticamente significativa. Repite el procedimiento para todos los demás eventos (ahorrarás tiempo si creas una función especial para esta prueba). ¿Puedes confirmar que los grupos se dividieron correctamente?"
   ]
  },
  {
   "cell_type": "markdown",
   "metadata": {},
   "source": [
    "Para los tres grupos \"MainScreenAppear\" es el evento más popular."
   ]
  },
  {
   "cell_type": "code",
   "execution_count": 31,
   "metadata": {},
   "outputs": [
    {
     "data": {
      "text/html": [
       "<div>\n",
       "<style scoped>\n",
       "    .dataframe tbody tr th:only-of-type {\n",
       "        vertical-align: middle;\n",
       "    }\n",
       "\n",
       "    .dataframe tbody tr th {\n",
       "        vertical-align: top;\n",
       "    }\n",
       "\n",
       "    .dataframe thead th {\n",
       "        text-align: right;\n",
       "    }\n",
       "</style>\n",
       "<table border=\"1\" class=\"dataframe\">\n",
       "  <thead>\n",
       "    <tr style=\"text-align: right;\">\n",
       "      <th>group</th>\n",
       "      <th>event</th>\n",
       "      <th>246</th>\n",
       "      <th>247</th>\n",
       "      <th>248</th>\n",
       "    </tr>\n",
       "  </thead>\n",
       "  <tbody>\n",
       "    <tr>\n",
       "      <th>1</th>\n",
       "      <td>MainScreenAppear</td>\n",
       "      <td>2450</td>\n",
       "      <td>2476</td>\n",
       "      <td>2493</td>\n",
       "    </tr>\n",
       "  </tbody>\n",
       "</table>\n",
       "</div>"
      ],
      "text/plain": [
       "group             event   246   247   248\n",
       "1      MainScreenAppear  2450  2476  2493"
      ]
     },
     "execution_count": 31,
     "metadata": {},
     "output_type": "execute_result"
    }
   ],
   "source": [
    "pivot_logs.head(1)"
   ]
  },
  {
   "cell_type": "code",
   "execution_count": 32,
   "metadata": {},
   "outputs": [],
   "source": [
    "#Hago la función para obtener las proporciones de los tres grupos\n",
    "pivot_logs['proportion_246'] = np.nan\n",
    "pivot_logs['proportion_247'] = np.nan\n",
    "pivot_logs['proportion_248'] = np.nan\n",
    "\n",
    "def proportion_col(ctrl_1, ctrl_2, ctrl_3, event):\n",
    "    group_1 = pivot_logs[pivot_logs['event'] == event][ctrl_1].iloc[0]\n",
    "    group_2 = pivot_logs[pivot_logs['event'] == event][ctrl_2].iloc[0]\n",
    "    group_3 = pivot_logs[pivot_logs['event'] == event][ctrl_3].iloc[0]\n",
    "\n",
    "    users_1 = filter_logs[filter_logs['group'] == ctrl_1]['user_id'].nunique()\n",
    "    users_2 = filter_logs[filter_logs['group'] == ctrl_2]['user_id'].nunique()\n",
    "    users_3 = filter_logs[filter_logs['group'] == ctrl_3]['user_id'].nunique()\n",
    "\n",
    "    prop_1 = group_1 / users_1\n",
    "    prop_2 = group_2 / users_2\n",
    "    prop_3 = group_3 / users_3\n",
    "\n",
    "    pivot_logs.loc[pivot_logs['event'] == event, 'proportion_246'] = prop_1.round(2)\n",
    "    pivot_logs.loc[pivot_logs['event'] == event, 'proportion_247'] = prop_2.round(2)\n",
    "    pivot_logs.loc[pivot_logs['event'] == event, 'proportion_248'] = prop_3.round(2)\n",
    "\n",
    "for x in pivot_logs['event']:\n",
    "    proportion_col(246, 247, 248, x)"
   ]
  },
  {
   "cell_type": "code",
   "execution_count": 33,
   "metadata": {},
   "outputs": [
    {
     "data": {
      "text/html": [
       "<div>\n",
       "<style scoped>\n",
       "    .dataframe tbody tr th:only-of-type {\n",
       "        vertical-align: middle;\n",
       "    }\n",
       "\n",
       "    .dataframe tbody tr th {\n",
       "        vertical-align: top;\n",
       "    }\n",
       "\n",
       "    .dataframe thead th {\n",
       "        text-align: right;\n",
       "    }\n",
       "</style>\n",
       "<table border=\"1\" class=\"dataframe\">\n",
       "  <thead>\n",
       "    <tr style=\"text-align: right;\">\n",
       "      <th>group</th>\n",
       "      <th>event</th>\n",
       "      <th>246</th>\n",
       "      <th>247</th>\n",
       "      <th>248</th>\n",
       "      <th>proportion_246</th>\n",
       "      <th>proportion_247</th>\n",
       "      <th>proportion_248</th>\n",
       "    </tr>\n",
       "  </thead>\n",
       "  <tbody>\n",
       "    <tr>\n",
       "      <th>1</th>\n",
       "      <td>MainScreenAppear</td>\n",
       "      <td>2450</td>\n",
       "      <td>2476</td>\n",
       "      <td>2493</td>\n",
       "      <td>0.99</td>\n",
       "      <td>0.99</td>\n",
       "      <td>0.98</td>\n",
       "    </tr>\n",
       "    <tr>\n",
       "      <th>2</th>\n",
       "      <td>OffersScreenAppear</td>\n",
       "      <td>1542</td>\n",
       "      <td>1520</td>\n",
       "      <td>1531</td>\n",
       "      <td>0.62</td>\n",
       "      <td>0.60</td>\n",
       "      <td>0.60</td>\n",
       "    </tr>\n",
       "    <tr>\n",
       "      <th>0</th>\n",
       "      <td>CartScreenAppear</td>\n",
       "      <td>1266</td>\n",
       "      <td>1238</td>\n",
       "      <td>1230</td>\n",
       "      <td>0.51</td>\n",
       "      <td>0.49</td>\n",
       "      <td>0.48</td>\n",
       "    </tr>\n",
       "    <tr>\n",
       "      <th>3</th>\n",
       "      <td>PaymentScreenSuccessful</td>\n",
       "      <td>1200</td>\n",
       "      <td>1158</td>\n",
       "      <td>1181</td>\n",
       "      <td>0.48</td>\n",
       "      <td>0.46</td>\n",
       "      <td>0.47</td>\n",
       "    </tr>\n",
       "    <tr>\n",
       "      <th>4</th>\n",
       "      <td>Tutorial</td>\n",
       "      <td>278</td>\n",
       "      <td>283</td>\n",
       "      <td>279</td>\n",
       "      <td>0.11</td>\n",
       "      <td>0.11</td>\n",
       "      <td>0.11</td>\n",
       "    </tr>\n",
       "  </tbody>\n",
       "</table>\n",
       "</div>"
      ],
      "text/plain": [
       "group                    event   246   247   248  proportion_246  \\\n",
       "1             MainScreenAppear  2450  2476  2493            0.99   \n",
       "2           OffersScreenAppear  1542  1520  1531            0.62   \n",
       "0             CartScreenAppear  1266  1238  1230            0.51   \n",
       "3      PaymentScreenSuccessful  1200  1158  1181            0.48   \n",
       "4                     Tutorial   278   283   279            0.11   \n",
       "\n",
       "group  proportion_247  proportion_248  \n",
       "1                0.99            0.98  \n",
       "2                0.60            0.60  \n",
       "0                0.49            0.48  \n",
       "3                0.46            0.47  \n",
       "4                0.11            0.11  "
      ]
     },
     "execution_count": 33,
     "metadata": {},
     "output_type": "execute_result"
    }
   ],
   "source": [
    "pivot_logs"
   ]
  },
  {
   "cell_type": "code",
   "execution_count": 34,
   "metadata": {
    "scrolled": true
   },
   "outputs": [
    {
     "name": "stdout",
     "output_type": "stream",
     "text": [
      "T-statistic: 0.06008718968345722\n",
      "P-value: 0.9535601211136968\n",
      "No puede rechazarse la hipótesis nula.\n"
     ]
    }
   ],
   "source": [
    "t_stat_1, p_value_1 = ttest_ind(pivot_logs['proportion_246'], pivot_logs['proportion_247'])\n",
    "print(f'T-statistic: {t_stat_1}')\n",
    "print(f'P-value: {p_value_1}')\n",
    "\n",
    "if (p_value_1 < alpha):\n",
    "        print('Rechazamos la hipótesis nula, los grupos son diferentes')\n",
    "else:\n",
    "        print('No puede rechazarse la hipótesis nula.')"
   ]
  },
  {
   "cell_type": "markdown",
   "metadata": {},
   "source": [
    "Nuevamente no hay diferencias estadísticas entre ambos grupos de control por lo que ambos grupos están divididos de forma adecuada."
   ]
  },
  {
   "cell_type": "markdown",
   "metadata": {},
   "source": [
    "### Haz lo mismo para el grupo con fuentes alteradas. Compara los resultados con los de cada uno de los grupos de control para cada evento de forma aislada. Compara los resultados con los resultados combinados de los grupos de control. ¿Qué conclusiones puedes sacar del experimento?"
   ]
  },
  {
   "cell_type": "code",
   "execution_count": 35,
   "metadata": {},
   "outputs": [
    {
     "name": "stdout",
     "output_type": "stream",
     "text": [
      "T-statistic: 0.07052382164493949\n",
      "P-value: 0.9455078264617658\n",
      "No puede rechazarse la hipótesis nula.\n"
     ]
    }
   ],
   "source": [
    "# vs 246\n",
    "t_stat_2, p_value_2 = ttest_ind(pivot_logs['proportion_246'], pivot_logs['proportion_248'])\n",
    "print(f'T-statistic: {t_stat_2}')\n",
    "print(f'P-value: {p_value_2}')\n",
    "\n",
    "if (p_value_2 < alpha):\n",
    "        print('Rechazamos la hipótesis nula, los grupos son diferentes')\n",
    "else:\n",
    "        print('No puede rechazarse la hipótesis nula.')"
   ]
  },
  {
   "cell_type": "code",
   "execution_count": 36,
   "metadata": {},
   "outputs": [
    {
     "name": "stdout",
     "output_type": "stream",
     "text": [
      "T-statistic: 0.010067680958312612\n",
      "P-value: 0.9922138232335179\n",
      "No puede rechazarse la hipótesis nula.\n"
     ]
    }
   ],
   "source": [
    "# vs 247\n",
    "t_stat_3, p_value_3 = ttest_ind(pivot_logs['proportion_247'], pivot_logs['proportion_248'])\n",
    "print(f'T-statistic: {t_stat_3}')\n",
    "print(f'P-value: {p_value_3}')\n",
    "\n",
    "if (p_value_3 < alpha):\n",
    "        print('Rechazamos la hipótesis nula, los grupos son diferentes')\n",
    "else:\n",
    "        print('No puede rechazarse la hipótesis nula.')"
   ]
  },
  {
   "cell_type": "code",
   "execution_count": 37,
   "metadata": {},
   "outputs": [
    {
     "name": "stdout",
     "output_type": "stream",
     "text": [
      "No puede rechazarse la hipótesis nula.\n"
     ]
    }
   ],
   "source": [
    "# vs ambos combinados\n",
    "t_stat_4, p_value_4 = ttest_ind(((pivot_logs['proportion_246'] + pivot_logs['proportion_247']) / 2) , pivot_logs['proportion_248'])\n",
    "\n",
    "if (p_value_4 < alpha):\n",
    "        print('Rechazamos la hipótesis nula, los grupos son diferentes')\n",
    "else:\n",
    "        print('No puede rechazarse la hipótesis nula.')"
   ]
  },
  {
   "cell_type": "markdown",
   "metadata": {},
   "source": [
    "No parecen haber diferencias entre los grupos de control y fuentes alteradas."
   ]
  },
  {
   "cell_type": "markdown",
   "metadata": {},
   "source": [
    "### ¿Qué nivel de significación has establecido para probar las hipótesis estadísticas mencionadas anteriormente? Calcula cuántas pruebas de hipótesis estadísticas has realizado. Con un nivel de significancia estadística de 0.1, uno de cada 10 resultados podría ser falso. ¿Cuál debería ser el nivel de significación? Si deseas cambiarlo, vuelve a ejecutar los pasos anteriores y comprueba tus conclusiones."
   ]
  },
  {
   "cell_type": "markdown",
   "metadata": {},
   "source": [
    "Comencé con una significación del 5%, luego lo ajusté de acuerdo a la cantidad de pruebas realizadas, sin embargo las conclusiones originales no cambiaron."
   ]
  },
  {
   "cell_type": "markdown",
   "metadata": {},
   "source": [
    "## Conclusiones."
   ]
  },
  {
   "cell_type": "markdown",
   "metadata": {},
   "source": [
    "Los usuarios visitan con frecuencia la página, aunque no realizan una compra cada vez, si hay una tasa de retención alta lo que es un buen indicativo.\n",
    "\n",
    "Casi siempre el acceso al sitio web es directamente a traves de la página principal.\n",
    "\n",
    "Pocas personas realizan en tutorial así que no es necesario para la mayoría y la experiencia de compra parece ser intuitiva pero está disponible para aquellos usuarios que no sepan como hacerlo. \n",
    "\n",
    "Basados en las distintas pruebas de hipótesis realizadas y comparativas con los grupos de control, el cambio de fuente no parece afectar de ningún modo el flujo de la página. Puede aplicarse para dar un aspecto más acorde a la imagen que se quiere pero se recomienda buscar otras alternativas para aumentar el número de clientes."
   ]
  }
 ],
 "metadata": {
  "ExecuteTimeLog": [
   {
    "duration": 5049,
    "start_time": "2024-08-05T19:50:33.156Z"
   },
   {
    "duration": 232,
    "start_time": "2024-08-05T19:50:38.210Z"
   },
   {
    "duration": 26,
    "start_time": "2024-08-05T19:50:38.445Z"
   },
   {
    "duration": 32,
    "start_time": "2024-08-05T19:50:38.474Z"
   },
   {
    "duration": 103,
    "start_time": "2024-08-05T19:50:38.512Z"
   },
   {
    "duration": 99,
    "start_time": "2024-08-05T19:50:38.618Z"
   },
   {
    "duration": 12,
    "start_time": "2024-08-05T19:50:38.720Z"
   },
   {
    "duration": 26,
    "start_time": "2024-08-05T19:50:38.734Z"
   },
   {
    "duration": 341,
    "start_time": "2024-08-05T19:51:58.545Z"
   },
   {
    "duration": 175,
    "start_time": "2024-08-05T19:52:02.518Z"
   },
   {
    "duration": 15,
    "start_time": "2024-08-05T19:52:17.939Z"
   },
   {
    "duration": 1313,
    "start_time": "2024-08-05T19:52:29.009Z"
   },
   {
    "duration": 199,
    "start_time": "2024-08-05T19:52:30.326Z"
   },
   {
    "duration": 26,
    "start_time": "2024-08-05T19:52:30.528Z"
   },
   {
    "duration": 8,
    "start_time": "2024-08-05T19:52:30.559Z"
   },
   {
    "duration": 85,
    "start_time": "2024-08-05T19:52:30.601Z"
   },
   {
    "duration": 83,
    "start_time": "2024-08-05T19:52:30.703Z"
   },
   {
    "duration": 14,
    "start_time": "2024-08-05T19:52:30.802Z"
   },
   {
    "duration": 22,
    "start_time": "2024-08-05T19:52:30.820Z"
   },
   {
    "duration": 21,
    "start_time": "2024-08-05T19:52:30.845Z"
   },
   {
    "duration": 10,
    "start_time": "2024-08-05T19:55:35.823Z"
   },
   {
    "duration": 8,
    "start_time": "2024-08-05T19:56:18.470Z"
   },
   {
    "duration": 604,
    "start_time": "2024-08-05T19:56:48.275Z"
   },
   {
    "duration": 60,
    "start_time": "2024-08-05T19:57:49.332Z"
   },
   {
    "duration": 401,
    "start_time": "2024-08-05T19:58:18.822Z"
   },
   {
    "duration": 50,
    "start_time": "2024-08-05T19:58:24.784Z"
   },
   {
    "duration": 36,
    "start_time": "2024-08-05T20:02:01.864Z"
   },
   {
    "duration": 16,
    "start_time": "2024-08-05T20:02:06.580Z"
   },
   {
    "duration": 5,
    "start_time": "2024-08-05T20:02:18.249Z"
   },
   {
    "duration": 42,
    "start_time": "2024-08-05T20:02:57.275Z"
   },
   {
    "duration": 5,
    "start_time": "2024-08-05T20:03:58.192Z"
   },
   {
    "duration": 35,
    "start_time": "2024-08-05T20:07:36.515Z"
   },
   {
    "duration": 33,
    "start_time": "2024-08-05T20:08:47.833Z"
   },
   {
    "duration": 34,
    "start_time": "2024-08-05T20:09:08.270Z"
   },
   {
    "duration": 8,
    "start_time": "2024-08-05T20:10:49.723Z"
   },
   {
    "duration": 220,
    "start_time": "2024-08-05T20:10:53.720Z"
   },
   {
    "duration": 215,
    "start_time": "2024-08-05T20:11:14.583Z"
   },
   {
    "duration": 230,
    "start_time": "2024-08-05T20:11:39.492Z"
   },
   {
    "duration": 35,
    "start_time": "2024-08-05T20:13:18.338Z"
   },
   {
    "duration": 207,
    "start_time": "2024-08-05T20:13:23.231Z"
   },
   {
    "duration": 209,
    "start_time": "2024-08-05T20:13:39.980Z"
   },
   {
    "duration": 312,
    "start_time": "2024-08-05T20:13:49.425Z"
   },
   {
    "duration": 290,
    "start_time": "2024-08-05T20:15:16.505Z"
   },
   {
    "duration": 5,
    "start_time": "2024-08-05T20:15:46.908Z"
   },
   {
    "duration": 523,
    "start_time": "2024-08-05T20:16:01.006Z"
   },
   {
    "duration": 207,
    "start_time": "2024-08-05T20:16:07.206Z"
   },
   {
    "duration": 578,
    "start_time": "2024-08-05T20:16:32.161Z"
   },
   {
    "duration": 492,
    "start_time": "2024-08-05T20:16:40.712Z"
   },
   {
    "duration": 509,
    "start_time": "2024-08-05T20:16:55.405Z"
   },
   {
    "duration": 300,
    "start_time": "2024-08-05T20:17:01.641Z"
   },
   {
    "duration": 68,
    "start_time": "2024-08-05T20:44:33.081Z"
   },
   {
    "duration": 65,
    "start_time": "2024-08-05T20:45:08.830Z"
   },
   {
    "duration": 70,
    "start_time": "2024-08-05T20:46:53.683Z"
   },
   {
    "duration": 68,
    "start_time": "2024-08-05T20:50:18.976Z"
   },
   {
    "duration": 70,
    "start_time": "2024-08-05T20:52:03.836Z"
   },
   {
    "duration": 75,
    "start_time": "2024-08-05T20:52:17.927Z"
   },
   {
    "duration": 80,
    "start_time": "2024-08-05T20:52:36.389Z"
   },
   {
    "duration": 6,
    "start_time": "2024-08-05T20:52:45.961Z"
   },
   {
    "duration": 74,
    "start_time": "2024-08-05T20:52:57.583Z"
   },
   {
    "duration": 67,
    "start_time": "2024-08-05T20:55:31.916Z"
   },
   {
    "duration": 1198,
    "start_time": "2024-08-05T20:55:56.468Z"
   },
   {
    "duration": 76,
    "start_time": "2024-08-05T20:56:51.011Z"
   },
   {
    "duration": 16,
    "start_time": "2024-08-05T20:57:52.719Z"
   },
   {
    "duration": 13,
    "start_time": "2024-08-05T20:58:04.187Z"
   },
   {
    "duration": 82,
    "start_time": "2024-08-05T20:58:26.255Z"
   },
   {
    "duration": 76,
    "start_time": "2024-08-05T20:58:28.655Z"
   },
   {
    "duration": 74,
    "start_time": "2024-08-05T21:03:38.074Z"
   },
   {
    "duration": 12,
    "start_time": "2024-08-05T21:03:51.349Z"
   },
   {
    "duration": 16,
    "start_time": "2024-08-05T21:17:47.924Z"
   },
   {
    "duration": 12,
    "start_time": "2024-08-05T21:18:26.935Z"
   },
   {
    "duration": 12,
    "start_time": "2024-08-05T21:18:57.162Z"
   },
   {
    "duration": 14,
    "start_time": "2024-08-05T21:19:09.097Z"
   },
   {
    "duration": 172,
    "start_time": "2024-08-05T21:22:03.150Z"
   },
   {
    "duration": 190,
    "start_time": "2024-08-05T21:22:25.254Z"
   },
   {
    "duration": 77,
    "start_time": "2024-08-05T21:27:10.365Z"
   },
   {
    "duration": 461,
    "start_time": "2024-08-05T21:27:27.426Z"
   },
   {
    "duration": 14,
    "start_time": "2024-08-05T21:27:40.885Z"
   },
   {
    "duration": 185,
    "start_time": "2024-08-05T21:27:48.432Z"
   },
   {
    "duration": 1329,
    "start_time": "2024-08-05T21:32:30.377Z"
   },
   {
    "duration": 201,
    "start_time": "2024-08-05T21:32:31.710Z"
   },
   {
    "duration": 25,
    "start_time": "2024-08-05T21:32:31.915Z"
   },
   {
    "duration": 9,
    "start_time": "2024-08-05T21:32:31.944Z"
   },
   {
    "duration": 119,
    "start_time": "2024-08-05T21:32:31.957Z"
   },
   {
    "duration": 100,
    "start_time": "2024-08-05T21:32:32.079Z"
   },
   {
    "duration": 22,
    "start_time": "2024-08-05T21:32:32.182Z"
   },
   {
    "duration": 21,
    "start_time": "2024-08-05T21:32:32.207Z"
   },
   {
    "duration": 5,
    "start_time": "2024-08-05T21:32:32.231Z"
   },
   {
    "duration": 11,
    "start_time": "2024-08-05T21:32:32.240Z"
   },
   {
    "duration": 49,
    "start_time": "2024-08-05T21:32:32.254Z"
   },
   {
    "duration": 8,
    "start_time": "2024-08-05T21:32:32.307Z"
   },
   {
    "duration": 615,
    "start_time": "2024-08-05T21:32:32.318Z"
   },
   {
    "duration": 24,
    "start_time": "2024-08-05T21:32:32.940Z"
   },
   {
    "duration": 6,
    "start_time": "2024-08-05T21:32:32.967Z"
   },
   {
    "duration": 68,
    "start_time": "2024-08-05T21:32:32.976Z"
   },
   {
    "duration": 57,
    "start_time": "2024-08-05T21:32:33.047Z"
   },
   {
    "duration": 220,
    "start_time": "2024-08-05T21:32:33.107Z"
   },
   {
    "duration": 89,
    "start_time": "2024-08-05T21:32:33.331Z"
   },
   {
    "duration": 83,
    "start_time": "2024-08-05T21:32:33.426Z"
   },
   {
    "duration": 17,
    "start_time": "2024-08-05T21:32:33.512Z"
   },
   {
    "duration": 242,
    "start_time": "2024-08-05T21:32:33.533Z"
   },
   {
    "duration": 64,
    "start_time": "2024-08-05T21:35:07.161Z"
   },
   {
    "duration": 473,
    "start_time": "2024-08-05T21:35:29.291Z"
   },
   {
    "duration": 76,
    "start_time": "2024-08-05T21:35:50.823Z"
   },
   {
    "duration": 65,
    "start_time": "2024-08-05T21:36:36.196Z"
   },
   {
    "duration": 9,
    "start_time": "2024-08-05T21:36:40.932Z"
   },
   {
    "duration": 63,
    "start_time": "2024-08-05T21:37:04.160Z"
   },
   {
    "duration": 10,
    "start_time": "2024-08-05T21:37:12.017Z"
   },
   {
    "duration": 68,
    "start_time": "2024-08-05T21:37:51.968Z"
   },
   {
    "duration": 63,
    "start_time": "2024-08-05T21:37:57.429Z"
   },
   {
    "duration": 9,
    "start_time": "2024-08-05T21:37:59.957Z"
   },
   {
    "duration": 1170,
    "start_time": "2024-08-05T21:38:55.074Z"
   },
   {
    "duration": 16,
    "start_time": "2024-08-05T21:41:49.875Z"
   },
   {
    "duration": 1165,
    "start_time": "2024-08-05T21:42:36.460Z"
   },
   {
    "duration": 22,
    "start_time": "2024-08-05T21:42:42.931Z"
   },
   {
    "duration": 17,
    "start_time": "2024-08-05T21:43:02.907Z"
   },
   {
    "duration": 11,
    "start_time": "2024-08-05T21:43:38.906Z"
   },
   {
    "duration": 17,
    "start_time": "2024-08-05T21:43:42.496Z"
   },
   {
    "duration": 17,
    "start_time": "2024-08-05T21:45:00.872Z"
   },
   {
    "duration": 211,
    "start_time": "2024-08-05T21:45:20.809Z"
   },
   {
    "duration": 11,
    "start_time": "2024-08-05T21:47:04.356Z"
   },
   {
    "duration": 6,
    "start_time": "2024-08-05T21:48:11.868Z"
   },
   {
    "duration": 7,
    "start_time": "2024-08-05T21:48:23.188Z"
   },
   {
    "duration": 5,
    "start_time": "2024-08-05T21:50:46.170Z"
   },
   {
    "duration": 6,
    "start_time": "2024-08-05T21:50:59.756Z"
   },
   {
    "duration": 9,
    "start_time": "2024-08-05T21:51:05.897Z"
   },
   {
    "duration": 5,
    "start_time": "2024-08-05T21:51:19.019Z"
   },
   {
    "duration": 5,
    "start_time": "2024-08-05T21:51:19.866Z"
   },
   {
    "duration": 6,
    "start_time": "2024-08-05T21:51:20.524Z"
   },
   {
    "duration": 5,
    "start_time": "2024-08-05T21:51:25.176Z"
   },
   {
    "duration": 5,
    "start_time": "2024-08-05T21:51:27.817Z"
   },
   {
    "duration": 5,
    "start_time": "2024-08-05T21:51:28.874Z"
   },
   {
    "duration": 1366,
    "start_time": "2024-08-05T21:51:38.040Z"
   },
   {
    "duration": 206,
    "start_time": "2024-08-05T21:51:39.410Z"
   },
   {
    "duration": 29,
    "start_time": "2024-08-05T21:51:39.620Z"
   },
   {
    "duration": 9,
    "start_time": "2024-08-05T21:51:39.655Z"
   },
   {
    "duration": 121,
    "start_time": "2024-08-05T21:51:39.667Z"
   },
   {
    "duration": 95,
    "start_time": "2024-08-05T21:51:39.790Z"
   },
   {
    "duration": 12,
    "start_time": "2024-08-05T21:51:39.902Z"
   },
   {
    "duration": 23,
    "start_time": "2024-08-05T21:51:39.916Z"
   },
   {
    "duration": 5,
    "start_time": "2024-08-05T21:51:39.942Z"
   },
   {
    "duration": 49,
    "start_time": "2024-08-05T21:51:39.953Z"
   },
   {
    "duration": 11,
    "start_time": "2024-08-05T21:51:40.005Z"
   },
   {
    "duration": 7,
    "start_time": "2024-08-05T21:51:40.019Z"
   },
   {
    "duration": 650,
    "start_time": "2024-08-05T21:51:40.030Z"
   },
   {
    "duration": 34,
    "start_time": "2024-08-05T21:51:40.684Z"
   },
   {
    "duration": 5,
    "start_time": "2024-08-05T21:51:40.720Z"
   },
   {
    "duration": 44,
    "start_time": "2024-08-05T21:51:40.729Z"
   },
   {
    "duration": 35,
    "start_time": "2024-08-05T21:51:40.803Z"
   },
   {
    "duration": 241,
    "start_time": "2024-08-05T21:51:40.841Z"
   },
   {
    "duration": 73,
    "start_time": "2024-08-05T21:51:41.086Z"
   },
   {
    "duration": 9,
    "start_time": "2024-08-05T21:51:41.162Z"
   },
   {
    "duration": 38,
    "start_time": "2024-08-05T21:51:41.174Z"
   },
   {
    "duration": 18,
    "start_time": "2024-08-05T21:51:41.214Z"
   },
   {
    "duration": 242,
    "start_time": "2024-08-05T21:51:41.236Z"
   },
   {
    "duration": 6,
    "start_time": "2024-08-05T21:51:41.481Z"
   },
   {
    "duration": 12,
    "start_time": "2024-08-05T21:51:41.502Z"
   },
   {
    "duration": 1363,
    "start_time": "2024-08-05T21:51:55.939Z"
   },
   {
    "duration": 203,
    "start_time": "2024-08-05T21:51:57.305Z"
   },
   {
    "duration": 30,
    "start_time": "2024-08-05T21:51:57.511Z"
   },
   {
    "duration": 9,
    "start_time": "2024-08-05T21:51:57.546Z"
   },
   {
    "duration": 114,
    "start_time": "2024-08-05T21:51:57.558Z"
   },
   {
    "duration": 98,
    "start_time": "2024-08-05T21:51:57.675Z"
   },
   {
    "duration": 28,
    "start_time": "2024-08-05T21:51:57.776Z"
   },
   {
    "duration": 21,
    "start_time": "2024-08-05T21:51:57.807Z"
   },
   {
    "duration": 5,
    "start_time": "2024-08-05T21:51:57.832Z"
   },
   {
    "duration": 10,
    "start_time": "2024-08-05T21:51:57.844Z"
   },
   {
    "duration": 10,
    "start_time": "2024-08-05T21:51:57.902Z"
   },
   {
    "duration": 8,
    "start_time": "2024-08-05T21:51:57.916Z"
   },
   {
    "duration": 628,
    "start_time": "2024-08-05T21:51:57.927Z"
   },
   {
    "duration": 22,
    "start_time": "2024-08-05T21:51:58.559Z"
   },
   {
    "duration": 6,
    "start_time": "2024-08-05T21:51:58.601Z"
   },
   {
    "duration": 48,
    "start_time": "2024-08-05T21:51:58.610Z"
   },
   {
    "duration": 65,
    "start_time": "2024-08-05T21:51:58.661Z"
   },
   {
    "duration": 230,
    "start_time": "2024-08-05T21:51:58.728Z"
   },
   {
    "duration": 77,
    "start_time": "2024-08-05T21:51:58.961Z"
   },
   {
    "duration": 12,
    "start_time": "2024-08-05T21:51:59.040Z"
   },
   {
    "duration": 17,
    "start_time": "2024-08-05T21:51:59.055Z"
   },
   {
    "duration": 18,
    "start_time": "2024-08-05T21:51:59.103Z"
   },
   {
    "duration": 236,
    "start_time": "2024-08-05T21:51:59.125Z"
   },
   {
    "duration": 6,
    "start_time": "2024-08-05T21:51:59.364Z"
   },
   {
    "duration": 30,
    "start_time": "2024-08-05T21:51:59.374Z"
   },
   {
    "duration": 1316,
    "start_time": "2024-08-05T21:52:11.453Z"
   },
   {
    "duration": 205,
    "start_time": "2024-08-05T21:52:12.773Z"
   },
   {
    "duration": 35,
    "start_time": "2024-08-05T21:52:12.981Z"
   },
   {
    "duration": 8,
    "start_time": "2024-08-05T21:52:13.021Z"
   },
   {
    "duration": 116,
    "start_time": "2024-08-05T21:52:13.032Z"
   },
   {
    "duration": 97,
    "start_time": "2024-08-05T21:52:13.151Z"
   },
   {
    "duration": 12,
    "start_time": "2024-08-05T21:52:13.251Z"
   },
   {
    "duration": 42,
    "start_time": "2024-08-05T21:52:13.265Z"
   },
   {
    "duration": 5,
    "start_time": "2024-08-05T21:52:13.310Z"
   },
   {
    "duration": 13,
    "start_time": "2024-08-05T21:52:13.321Z"
   },
   {
    "duration": 11,
    "start_time": "2024-08-05T21:52:13.337Z"
   },
   {
    "duration": 52,
    "start_time": "2024-08-05T21:52:13.352Z"
   },
   {
    "duration": 598,
    "start_time": "2024-08-05T21:52:13.407Z"
   },
   {
    "duration": 21,
    "start_time": "2024-08-05T21:52:14.007Z"
   },
   {
    "duration": 5,
    "start_time": "2024-08-05T21:52:14.031Z"
   },
   {
    "duration": 82,
    "start_time": "2024-08-05T21:52:14.038Z"
   },
   {
    "duration": 36,
    "start_time": "2024-08-05T21:52:14.123Z"
   },
   {
    "duration": 246,
    "start_time": "2024-08-05T21:52:14.162Z"
   },
   {
    "duration": 66,
    "start_time": "2024-08-05T21:52:14.413Z"
   },
   {
    "duration": 27,
    "start_time": "2024-08-05T21:52:14.482Z"
   },
   {
    "duration": 18,
    "start_time": "2024-08-05T21:52:14.513Z"
   },
   {
    "duration": 19,
    "start_time": "2024-08-05T21:52:14.534Z"
   },
   {
    "duration": 248,
    "start_time": "2024-08-05T21:52:14.557Z"
   },
   {
    "duration": 7,
    "start_time": "2024-08-05T21:52:14.808Z"
   },
   {
    "duration": 12,
    "start_time": "2024-08-05T21:52:14.818Z"
   },
   {
    "duration": 43,
    "start_time": "2024-08-05T22:01:20.658Z"
   },
   {
    "duration": 8,
    "start_time": "2024-08-05T22:01:31.563Z"
   },
   {
    "duration": 11,
    "start_time": "2024-08-05T22:02:32.574Z"
   },
   {
    "duration": 21,
    "start_time": "2024-08-05T22:03:24.529Z"
   },
   {
    "duration": 1318,
    "start_time": "2024-08-05T22:05:18.844Z"
   },
   {
    "duration": 206,
    "start_time": "2024-08-05T22:05:20.165Z"
   },
   {
    "duration": 32,
    "start_time": "2024-08-05T22:05:20.374Z"
   },
   {
    "duration": 9,
    "start_time": "2024-08-05T22:05:20.411Z"
   },
   {
    "duration": 126,
    "start_time": "2024-08-05T22:05:20.423Z"
   },
   {
    "duration": 99,
    "start_time": "2024-08-05T22:05:20.553Z"
   },
   {
    "duration": 13,
    "start_time": "2024-08-05T22:05:20.654Z"
   },
   {
    "duration": 42,
    "start_time": "2024-08-05T22:05:20.670Z"
   },
   {
    "duration": 5,
    "start_time": "2024-08-05T22:05:20.715Z"
   },
   {
    "duration": 10,
    "start_time": "2024-08-05T22:05:20.726Z"
   },
   {
    "duration": 9,
    "start_time": "2024-08-05T22:05:20.739Z"
   },
   {
    "duration": 53,
    "start_time": "2024-08-05T22:05:20.751Z"
   },
   {
    "duration": 589,
    "start_time": "2024-08-05T22:05:20.807Z"
   },
   {
    "duration": 21,
    "start_time": "2024-08-05T22:05:21.403Z"
   },
   {
    "duration": 5,
    "start_time": "2024-08-05T22:05:21.427Z"
   },
   {
    "duration": 77,
    "start_time": "2024-08-05T22:05:21.435Z"
   },
   {
    "duration": 37,
    "start_time": "2024-08-05T22:05:21.516Z"
   },
   {
    "duration": 239,
    "start_time": "2024-08-05T22:05:21.556Z"
   },
   {
    "duration": 64,
    "start_time": "2024-08-05T22:05:21.802Z"
   },
   {
    "duration": 33,
    "start_time": "2024-08-05T22:05:21.869Z"
   },
   {
    "duration": 18,
    "start_time": "2024-08-05T22:05:21.905Z"
   },
   {
    "duration": 17,
    "start_time": "2024-08-05T22:05:21.927Z"
   },
   {
    "duration": 239,
    "start_time": "2024-08-05T22:05:21.948Z"
   },
   {
    "duration": 14,
    "start_time": "2024-08-05T22:05:22.190Z"
   },
   {
    "duration": 10,
    "start_time": "2024-08-05T22:05:22.208Z"
   },
   {
    "duration": 1138,
    "start_time": "2024-08-05T22:05:22.221Z"
   },
   {
    "duration": 11,
    "start_time": "2024-08-05T22:05:34.118Z"
   },
   {
    "duration": 15,
    "start_time": "2024-08-05T22:05:47.712Z"
   },
   {
    "duration": 35,
    "start_time": "2024-08-05T22:05:59.232Z"
   },
   {
    "duration": 24,
    "start_time": "2024-08-05T22:06:47.901Z"
   },
   {
    "duration": 14,
    "start_time": "2024-08-06T00:16:55.514Z"
   },
   {
    "duration": 25,
    "start_time": "2024-08-06T00:17:04.156Z"
   },
   {
    "duration": 18,
    "start_time": "2024-08-06T00:17:14.318Z"
   },
   {
    "duration": 21,
    "start_time": "2024-08-06T00:17:23.972Z"
   },
   {
    "duration": 31,
    "start_time": "2024-08-06T00:17:31.230Z"
   },
   {
    "duration": 17,
    "start_time": "2024-08-06T00:17:40.996Z"
   },
   {
    "duration": 21,
    "start_time": "2024-08-06T00:17:45.832Z"
   },
   {
    "duration": 341,
    "start_time": "2024-08-06T22:31:36.592Z"
   },
   {
    "duration": 5156,
    "start_time": "2024-08-06T22:31:43.229Z"
   },
   {
    "duration": 222,
    "start_time": "2024-08-06T22:31:48.389Z"
   },
   {
    "duration": 27,
    "start_time": "2024-08-06T22:31:48.614Z"
   },
   {
    "duration": 8,
    "start_time": "2024-08-06T22:31:48.645Z"
   },
   {
    "duration": 119,
    "start_time": "2024-08-06T22:31:48.656Z"
   },
   {
    "duration": 102,
    "start_time": "2024-08-06T22:31:48.779Z"
   },
   {
    "duration": 21,
    "start_time": "2024-08-06T22:31:48.884Z"
   },
   {
    "duration": 22,
    "start_time": "2024-08-06T22:31:48.908Z"
   },
   {
    "duration": 6,
    "start_time": "2024-08-06T22:31:48.932Z"
   },
   {
    "duration": 10,
    "start_time": "2024-08-06T22:31:48.946Z"
   },
   {
    "duration": 9,
    "start_time": "2024-08-06T22:31:49.003Z"
   },
   {
    "duration": 8,
    "start_time": "2024-08-06T22:31:49.016Z"
   },
   {
    "duration": 563,
    "start_time": "2024-08-06T22:31:49.027Z"
   },
   {
    "duration": 25,
    "start_time": "2024-08-06T22:31:49.593Z"
   },
   {
    "duration": 4,
    "start_time": "2024-08-06T22:31:49.621Z"
   },
   {
    "duration": 75,
    "start_time": "2024-08-06T22:31:49.628Z"
   },
   {
    "duration": 36,
    "start_time": "2024-08-06T22:31:49.707Z"
   },
   {
    "duration": 255,
    "start_time": "2024-08-06T22:31:49.746Z"
   },
   {
    "duration": 64,
    "start_time": "2024-08-06T22:31:50.005Z"
   },
   {
    "duration": 30,
    "start_time": "2024-08-06T22:31:50.072Z"
   },
   {
    "duration": 18,
    "start_time": "2024-08-06T22:31:50.105Z"
   },
   {
    "duration": 18,
    "start_time": "2024-08-06T22:31:50.127Z"
   },
   {
    "duration": 314,
    "start_time": "2024-08-06T22:31:50.148Z"
   },
   {
    "duration": 5,
    "start_time": "2024-08-06T22:31:50.465Z"
   },
   {
    "duration": 32,
    "start_time": "2024-08-06T22:31:50.474Z"
   },
   {
    "duration": 20,
    "start_time": "2024-08-06T22:31:50.508Z"
   },
   {
    "duration": 20,
    "start_time": "2024-08-06T22:31:50.530Z"
   },
   {
    "duration": 52,
    "start_time": "2024-08-06T22:31:50.557Z"
   },
   {
    "duration": 433,
    "start_time": "2024-08-06T22:33:36.856Z"
   },
   {
    "duration": 60,
    "start_time": "2024-08-06T22:33:44.034Z"
   },
   {
    "duration": 74,
    "start_time": "2024-08-06T22:34:38.932Z"
   },
   {
    "duration": 60,
    "start_time": "2024-08-06T22:34:45.750Z"
   },
   {
    "duration": 88,
    "start_time": "2024-08-06T22:35:27.234Z"
   },
   {
    "duration": 60,
    "start_time": "2024-08-06T22:35:39.343Z"
   },
   {
    "duration": 60,
    "start_time": "2024-08-06T22:35:58.759Z"
   },
   {
    "duration": 65,
    "start_time": "2024-08-06T22:36:46.531Z"
   },
   {
    "duration": 8,
    "start_time": "2024-08-06T22:39:57.143Z"
   },
   {
    "duration": 4,
    "start_time": "2024-08-06T22:42:13.478Z"
   },
   {
    "duration": 11,
    "start_time": "2024-08-06T22:49:18.984Z"
   },
   {
    "duration": 8,
    "start_time": "2024-08-06T22:49:34.260Z"
   },
   {
    "duration": 10,
    "start_time": "2024-08-06T22:49:57.215Z"
   },
   {
    "duration": 755,
    "start_time": "2024-08-06T22:57:51.167Z"
   },
   {
    "duration": 119,
    "start_time": "2024-08-06T22:58:23.649Z"
   },
   {
    "duration": 21,
    "start_time": "2024-08-06T22:59:58.362Z"
   },
   {
    "duration": 27,
    "start_time": "2024-08-06T23:00:09.316Z"
   },
   {
    "duration": 477,
    "start_time": "2024-08-06T23:02:12.161Z"
   },
   {
    "duration": 115,
    "start_time": "2024-08-06T23:02:28.047Z"
   },
   {
    "duration": 15,
    "start_time": "2024-08-06T23:02:36.927Z"
   },
   {
    "duration": 13,
    "start_time": "2024-08-06T23:03:07.876Z"
   },
   {
    "duration": 17,
    "start_time": "2024-08-06T23:03:21.202Z"
   },
   {
    "duration": 29,
    "start_time": "2024-08-06T23:05:12.236Z"
   },
   {
    "duration": 22,
    "start_time": "2024-08-06T23:05:35.445Z"
   },
   {
    "duration": 99,
    "start_time": "2024-08-06T23:15:04.190Z"
   },
   {
    "duration": 94,
    "start_time": "2024-08-06T23:15:34.740Z"
   },
   {
    "duration": 103,
    "start_time": "2024-08-06T23:15:45.785Z"
   },
   {
    "duration": 101,
    "start_time": "2024-08-06T23:15:46.810Z"
   },
   {
    "duration": 93,
    "start_time": "2024-08-06T23:16:27.196Z"
   },
   {
    "duration": 10,
    "start_time": "2024-08-06T23:16:35.253Z"
   },
   {
    "duration": 7,
    "start_time": "2024-08-06T23:17:03.753Z"
   },
   {
    "duration": 91,
    "start_time": "2024-08-06T23:17:07.822Z"
   },
   {
    "duration": 125,
    "start_time": "2024-08-06T23:17:50.047Z"
   },
   {
    "duration": 99,
    "start_time": "2024-08-06T23:17:56.977Z"
   },
   {
    "duration": 11,
    "start_time": "2024-08-06T23:17:59.707Z"
   },
   {
    "duration": 6,
    "start_time": "2024-08-06T23:18:34.553Z"
   },
   {
    "duration": 8,
    "start_time": "2024-08-06T23:25:41.775Z"
   },
   {
    "duration": 9,
    "start_time": "2024-08-06T23:25:48.101Z"
   },
   {
    "duration": 12,
    "start_time": "2024-08-06T23:26:13.880Z"
   },
   {
    "duration": 22,
    "start_time": "2024-08-06T23:28:23.369Z"
   },
   {
    "duration": 7,
    "start_time": "2024-08-06T23:34:54.023Z"
   },
   {
    "duration": 7,
    "start_time": "2024-08-06T23:34:59.801Z"
   },
   {
    "duration": 5,
    "start_time": "2024-08-06T23:35:10.373Z"
   },
   {
    "duration": 7,
    "start_time": "2024-08-06T23:35:19.951Z"
   },
   {
    "duration": 20,
    "start_time": "2024-08-06T23:39:17.398Z"
   },
   {
    "duration": 38,
    "start_time": "2024-08-06T23:41:23.138Z"
   },
   {
    "duration": 52,
    "start_time": "2024-08-06T23:41:34.443Z"
   },
   {
    "duration": 59,
    "start_time": "2024-08-06T23:41:57.672Z"
   },
   {
    "duration": 84,
    "start_time": "2024-08-06T23:43:35.789Z"
   },
   {
    "duration": 72,
    "start_time": "2024-08-06T23:46:16.039Z"
   },
   {
    "duration": 87,
    "start_time": "2024-08-06T23:48:15.027Z"
   },
   {
    "duration": 68,
    "start_time": "2024-08-06T23:50:52.329Z"
   },
   {
    "duration": 89,
    "start_time": "2024-08-06T23:51:35.491Z"
   },
   {
    "duration": 74,
    "start_time": "2024-08-06T23:53:25.954Z"
   },
   {
    "duration": 71,
    "start_time": "2024-08-06T23:53:32.016Z"
   },
   {
    "duration": 92,
    "start_time": "2024-08-06T23:53:56.972Z"
   },
   {
    "duration": 92,
    "start_time": "2024-08-07T00:01:02.854Z"
   },
   {
    "duration": 84,
    "start_time": "2024-08-07T00:01:18.579Z"
   },
   {
    "duration": 87,
    "start_time": "2024-08-07T00:02:06.090Z"
   },
   {
    "duration": 87,
    "start_time": "2024-08-07T00:02:47.663Z"
   },
   {
    "duration": 97,
    "start_time": "2024-08-07T00:02:58.107Z"
   },
   {
    "duration": 91,
    "start_time": "2024-08-07T00:03:59.730Z"
   },
   {
    "duration": 89,
    "start_time": "2024-08-07T00:04:26.791Z"
   },
   {
    "duration": 86,
    "start_time": "2024-08-07T00:04:31.033Z"
   },
   {
    "duration": 84,
    "start_time": "2024-08-07T00:05:26.686Z"
   },
   {
    "duration": 93,
    "start_time": "2024-08-07T00:05:58.178Z"
   },
   {
    "duration": 85,
    "start_time": "2024-08-07T00:08:15.244Z"
   },
   {
    "duration": 129,
    "start_time": "2024-08-07T00:08:51.127Z"
   },
   {
    "duration": 81,
    "start_time": "2024-08-07T00:09:08.051Z"
   },
   {
    "duration": 127,
    "start_time": "2024-08-07T00:10:12.056Z"
   },
   {
    "duration": 87,
    "start_time": "2024-08-07T00:11:13.375Z"
   },
   {
    "duration": 123,
    "start_time": "2024-08-07T00:12:37.668Z"
   },
   {
    "duration": 93,
    "start_time": "2024-08-07T00:15:18.718Z"
   },
   {
    "duration": 11,
    "start_time": "2024-08-07T00:15:21.460Z"
   },
   {
    "duration": 6,
    "start_time": "2024-08-07T00:15:42.729Z"
   },
   {
    "duration": 28,
    "start_time": "2024-08-07T00:16:11.897Z"
   },
   {
    "duration": 138,
    "start_time": "2024-08-07T00:17:51.885Z"
   },
   {
    "duration": 31,
    "start_time": "2024-08-07T00:18:13.660Z"
   },
   {
    "duration": 42,
    "start_time": "2024-08-07T00:18:27.926Z"
   },
   {
    "duration": 28,
    "start_time": "2024-08-07T00:19:34.201Z"
   },
   {
    "duration": 222,
    "start_time": "2024-08-07T00:23:00.086Z"
   },
   {
    "duration": 90,
    "start_time": "2024-08-07T00:23:24.991Z"
   },
   {
    "duration": 11,
    "start_time": "2024-08-07T00:23:26.270Z"
   },
   {
    "duration": 111,
    "start_time": "2024-08-07T00:23:32.052Z"
   },
   {
    "duration": 25,
    "start_time": "2024-08-07T00:24:22.426Z"
   },
   {
    "duration": 26,
    "start_time": "2024-08-07T00:24:45.428Z"
   },
   {
    "duration": 7,
    "start_time": "2024-08-07T00:24:51.181Z"
   },
   {
    "duration": 14,
    "start_time": "2024-08-07T00:25:22.410Z"
   },
   {
    "duration": 87,
    "start_time": "2024-08-07T00:26:06.763Z"
   },
   {
    "duration": 8,
    "start_time": "2024-08-07T00:26:24.592Z"
   },
   {
    "duration": 90,
    "start_time": "2024-08-07T00:26:32.193Z"
   },
   {
    "duration": 87,
    "start_time": "2024-08-07T00:26:46.628Z"
   },
   {
    "duration": 107,
    "start_time": "2024-08-07T00:28:24.089Z"
   },
   {
    "duration": 82,
    "start_time": "2024-08-07T00:30:48.620Z"
   },
   {
    "duration": 157,
    "start_time": "2024-08-07T00:32:04.189Z"
   },
   {
    "duration": 85,
    "start_time": "2024-08-07T00:35:29.745Z"
   },
   {
    "duration": 85,
    "start_time": "2024-08-07T00:37:14.397Z"
   },
   {
    "duration": 86,
    "start_time": "2024-08-07T00:37:19.907Z"
   },
   {
    "duration": 86,
    "start_time": "2024-08-07T00:37:51.097Z"
   },
   {
    "duration": 300,
    "start_time": "2024-08-07T00:42:04.875Z"
   },
   {
    "duration": 100,
    "start_time": "2024-08-07T00:43:36.630Z"
   },
   {
    "duration": 190,
    "start_time": "2024-08-07T00:45:20.182Z"
   },
   {
    "duration": 110,
    "start_time": "2024-08-07T00:46:19.032Z"
   },
   {
    "duration": 99,
    "start_time": "2024-08-07T00:46:29.155Z"
   },
   {
    "duration": 16,
    "start_time": "2024-08-07T00:46:35.949Z"
   },
   {
    "duration": 112,
    "start_time": "2024-08-07T00:48:16.125Z"
   },
   {
    "duration": 16,
    "start_time": "2024-08-07T00:48:19.055Z"
   },
   {
    "duration": 87,
    "start_time": "2024-08-07T00:49:09.056Z"
   },
   {
    "duration": 12,
    "start_time": "2024-08-07T00:49:11.136Z"
   },
   {
    "duration": 6,
    "start_time": "2024-08-07T00:50:47.911Z"
   },
   {
    "duration": 132,
    "start_time": "2024-08-07T01:00:10.716Z"
   },
   {
    "duration": 15,
    "start_time": "2024-08-07T01:00:12.965Z"
   },
   {
    "duration": 6,
    "start_time": "2024-08-07T01:05:18.725Z"
   },
   {
    "duration": 82,
    "start_time": "2024-08-07T01:05:24.449Z"
   },
   {
    "duration": 7,
    "start_time": "2024-08-07T01:05:44.197Z"
   },
   {
    "duration": 6,
    "start_time": "2024-08-07T01:06:22.687Z"
   },
   {
    "duration": 7,
    "start_time": "2024-08-07T01:06:41.809Z"
   },
   {
    "duration": 7,
    "start_time": "2024-08-07T01:08:27.474Z"
   },
   {
    "duration": 6,
    "start_time": "2024-08-07T01:08:52.850Z"
   },
   {
    "duration": 4,
    "start_time": "2024-08-07T01:11:50.914Z"
   },
   {
    "duration": 7,
    "start_time": "2024-08-07T01:11:54.767Z"
   },
   {
    "duration": 6,
    "start_time": "2024-08-07T01:12:06.942Z"
   },
   {
    "duration": 6,
    "start_time": "2024-08-07T01:13:14.546Z"
   },
   {
    "duration": 8,
    "start_time": "2024-08-07T01:13:35.830Z"
   },
   {
    "duration": 7,
    "start_time": "2024-08-07T01:14:16.676Z"
   },
   {
    "duration": 9,
    "start_time": "2024-08-07T01:14:26.101Z"
   },
   {
    "duration": 1319,
    "start_time": "2024-08-07T01:15:33.571Z"
   },
   {
    "duration": 203,
    "start_time": "2024-08-07T01:15:34.894Z"
   },
   {
    "duration": 25,
    "start_time": "2024-08-07T01:15:35.102Z"
   },
   {
    "duration": 8,
    "start_time": "2024-08-07T01:15:35.132Z"
   },
   {
    "duration": 119,
    "start_time": "2024-08-07T01:15:35.142Z"
   },
   {
    "duration": 95,
    "start_time": "2024-08-07T01:15:35.264Z"
   },
   {
    "duration": 12,
    "start_time": "2024-08-07T01:15:35.362Z"
   },
   {
    "duration": 37,
    "start_time": "2024-08-07T01:15:35.376Z"
   },
   {
    "duration": 5,
    "start_time": "2024-08-07T01:15:35.416Z"
   },
   {
    "duration": 9,
    "start_time": "2024-08-07T01:15:35.427Z"
   },
   {
    "duration": 8,
    "start_time": "2024-08-07T01:15:35.439Z"
   },
   {
    "duration": 54,
    "start_time": "2024-08-07T01:15:35.450Z"
   },
   {
    "duration": 622,
    "start_time": "2024-08-07T01:15:35.508Z"
   },
   {
    "duration": 22,
    "start_time": "2024-08-07T01:15:36.133Z"
   },
   {
    "duration": 5,
    "start_time": "2024-08-07T01:15:36.158Z"
   },
   {
    "duration": 84,
    "start_time": "2024-08-07T01:15:36.166Z"
   },
   {
    "duration": 57,
    "start_time": "2024-08-07T01:15:36.253Z"
   },
   {
    "duration": 229,
    "start_time": "2024-08-07T01:15:36.314Z"
   },
   {
    "duration": 86,
    "start_time": "2024-08-07T01:15:36.550Z"
   },
   {
    "duration": 11,
    "start_time": "2024-08-07T01:15:36.640Z"
   },
   {
    "duration": 17,
    "start_time": "2024-08-07T01:15:36.656Z"
   },
   {
    "duration": 23,
    "start_time": "2024-08-07T01:15:36.701Z"
   },
   {
    "duration": 227,
    "start_time": "2024-08-07T01:15:36.727Z"
   },
   {
    "duration": 6,
    "start_time": "2024-08-07T01:15:36.957Z"
   },
   {
    "duration": 11,
    "start_time": "2024-08-07T01:15:36.966Z"
   },
   {
    "duration": 335,
    "start_time": "2024-08-07T01:15:36.979Z"
   },
   {
    "duration": 0,
    "start_time": "2024-08-07T01:15:37.318Z"
   },
   {
    "duration": 0,
    "start_time": "2024-08-07T01:15:37.321Z"
   },
   {
    "duration": 0,
    "start_time": "2024-08-07T01:15:37.323Z"
   },
   {
    "duration": 0,
    "start_time": "2024-08-07T01:15:37.325Z"
   },
   {
    "duration": 0,
    "start_time": "2024-08-07T01:15:37.327Z"
   },
   {
    "duration": 0,
    "start_time": "2024-08-07T01:15:37.330Z"
   },
   {
    "duration": 0,
    "start_time": "2024-08-07T01:15:37.332Z"
   },
   {
    "duration": 0,
    "start_time": "2024-08-07T01:15:37.334Z"
   },
   {
    "duration": 0,
    "start_time": "2024-08-07T01:15:37.336Z"
   },
   {
    "duration": 0,
    "start_time": "2024-08-07T01:15:37.339Z"
   },
   {
    "duration": 97,
    "start_time": "2024-08-07T01:16:16.260Z"
   },
   {
    "duration": 91,
    "start_time": "2024-08-07T01:16:18.938Z"
   },
   {
    "duration": 13,
    "start_time": "2024-08-07T01:16:19.423Z"
   },
   {
    "duration": 4,
    "start_time": "2024-08-07T01:16:20.445Z"
   },
   {
    "duration": 6,
    "start_time": "2024-08-07T01:16:24.662Z"
   },
   {
    "duration": 10,
    "start_time": "2024-08-07T01:16:30.242Z"
   },
   {
    "duration": 130,
    "start_time": "2024-08-07T01:16:32.826Z"
   },
   {
    "duration": 13,
    "start_time": "2024-08-07T01:16:33.741Z"
   },
   {
    "duration": 8,
    "start_time": "2024-08-07T01:16:36.576Z"
   },
   {
    "duration": 7,
    "start_time": "2024-08-07T01:16:40.696Z"
   },
   {
    "duration": 6,
    "start_time": "2024-08-07T01:16:43.195Z"
   },
   {
    "duration": 7,
    "start_time": "2024-08-07T01:16:44.994Z"
   },
   {
    "duration": 10,
    "start_time": "2024-08-07T01:26:57.305Z"
   },
   {
    "duration": 14,
    "start_time": "2024-08-07T01:27:58.649Z"
   },
   {
    "duration": 13,
    "start_time": "2024-08-07T01:29:43.967Z"
   },
   {
    "duration": 14,
    "start_time": "2024-08-07T01:30:30.969Z"
   },
   {
    "duration": 12,
    "start_time": "2024-08-07T01:31:03.074Z"
   },
   {
    "duration": 16,
    "start_time": "2024-08-07T01:31:14.404Z"
   },
   {
    "duration": 14,
    "start_time": "2024-08-07T01:32:16.290Z"
   },
   {
    "duration": 13,
    "start_time": "2024-08-07T01:32:25.603Z"
   },
   {
    "duration": 12,
    "start_time": "2024-08-07T01:32:31.315Z"
   },
   {
    "duration": 12,
    "start_time": "2024-08-07T01:32:58.484Z"
   },
   {
    "duration": 16,
    "start_time": "2024-08-07T01:35:22.662Z"
   },
   {
    "duration": 13,
    "start_time": "2024-08-07T01:35:32.092Z"
   },
   {
    "duration": 214,
    "start_time": "2024-08-07T01:36:15.991Z"
   },
   {
    "duration": 5,
    "start_time": "2024-08-07T01:38:06.251Z"
   },
   {
    "duration": 5,
    "start_time": "2024-08-07T01:47:16.120Z"
   },
   {
    "duration": 531,
    "start_time": "2024-08-07T01:47:37.874Z"
   },
   {
    "duration": 208,
    "start_time": "2024-08-07T01:49:19.196Z"
   },
   {
    "duration": 606,
    "start_time": "2024-08-07T01:49:34.629Z"
   },
   {
    "duration": 1366,
    "start_time": "2024-08-07T02:01:09.115Z"
   },
   {
    "duration": 204,
    "start_time": "2024-08-07T02:01:10.485Z"
   },
   {
    "duration": 26,
    "start_time": "2024-08-07T02:01:10.701Z"
   },
   {
    "duration": 10,
    "start_time": "2024-08-07T02:01:10.732Z"
   },
   {
    "duration": 119,
    "start_time": "2024-08-07T02:01:10.746Z"
   },
   {
    "duration": 91,
    "start_time": "2024-08-07T02:01:10.868Z"
   },
   {
    "duration": 12,
    "start_time": "2024-08-07T02:01:10.962Z"
   },
   {
    "duration": 42,
    "start_time": "2024-08-07T02:01:10.977Z"
   },
   {
    "duration": 5,
    "start_time": "2024-08-07T02:01:11.021Z"
   },
   {
    "duration": 10,
    "start_time": "2024-08-07T02:01:11.034Z"
   },
   {
    "duration": 10,
    "start_time": "2024-08-07T02:01:11.046Z"
   },
   {
    "duration": 48,
    "start_time": "2024-08-07T02:01:11.058Z"
   },
   {
    "duration": 614,
    "start_time": "2024-08-07T02:01:11.109Z"
   },
   {
    "duration": 20,
    "start_time": "2024-08-07T02:01:11.726Z"
   },
   {
    "duration": 4,
    "start_time": "2024-08-07T02:01:11.750Z"
   },
   {
    "duration": 84,
    "start_time": "2024-08-07T02:01:11.758Z"
   },
   {
    "duration": 58,
    "start_time": "2024-08-07T02:01:11.845Z"
   },
   {
    "duration": 225,
    "start_time": "2024-08-07T02:01:11.906Z"
   },
   {
    "duration": 76,
    "start_time": "2024-08-07T02:01:12.134Z"
   },
   {
    "duration": 10,
    "start_time": "2024-08-07T02:01:12.213Z"
   },
   {
    "duration": 10,
    "start_time": "2024-08-07T02:01:12.226Z"
   },
   {
    "duration": 13,
    "start_time": "2024-08-07T02:01:12.239Z"
   },
   {
    "duration": 55,
    "start_time": "2024-08-07T02:01:12.256Z"
   },
   {
    "duration": 216,
    "start_time": "2024-08-07T02:01:12.315Z"
   },
   {
    "duration": 5,
    "start_time": "2024-08-07T02:01:12.535Z"
   },
   {
    "duration": 11,
    "start_time": "2024-08-07T02:01:12.544Z"
   },
   {
    "duration": 150,
    "start_time": "2024-08-07T02:01:12.558Z"
   },
   {
    "duration": 11,
    "start_time": "2024-08-07T02:01:12.715Z"
   },
   {
    "duration": 5,
    "start_time": "2024-08-07T02:01:12.729Z"
   },
   {
    "duration": 7,
    "start_time": "2024-08-07T02:01:12.738Z"
   },
   {
    "duration": 54,
    "start_time": "2024-08-07T02:01:12.747Z"
   },
   {
    "duration": 146,
    "start_time": "2024-08-07T02:01:12.804Z"
   },
   {
    "duration": 18,
    "start_time": "2024-08-07T02:01:12.954Z"
   },
   {
    "duration": 8,
    "start_time": "2024-08-07T02:01:12.976Z"
   },
   {
    "duration": 7,
    "start_time": "2024-08-07T02:01:13.003Z"
   },
   {
    "duration": 7,
    "start_time": "2024-08-07T02:01:13.014Z"
   },
   {
    "duration": 6,
    "start_time": "2024-08-07T02:01:13.025Z"
   }
  ],
  "kernelspec": {
   "display_name": "Python 3 (ipykernel)",
   "language": "python",
   "name": "python3"
  },
  "language_info": {
   "codemirror_mode": {
    "name": "ipython",
    "version": 3
   },
   "file_extension": ".py",
   "mimetype": "text/x-python",
   "name": "python",
   "nbconvert_exporter": "python",
   "pygments_lexer": "ipython3",
   "version": "3.11.5"
  },
  "toc": {
   "base_numbering": 1,
   "nav_menu": {},
   "number_sections": true,
   "sideBar": true,
   "skip_h1_title": true,
   "title_cell": "Table of Contents",
   "title_sidebar": "Contents",
   "toc_cell": false,
   "toc_position": {},
   "toc_section_display": true,
   "toc_window_display": false
  }
 },
 "nbformat": 4,
 "nbformat_minor": 4
}
